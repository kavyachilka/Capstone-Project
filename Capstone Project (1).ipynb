{
 "cells": [
  {
   "cell_type": "markdown",
   "id": "e54b04b4",
   "metadata": {},
   "source": [
    "# Project 1 (TaxiFare)"
   ]
  },
  {
   "cell_type": "code",
   "execution_count": 268,
   "id": "054bb849",
   "metadata": {},
   "outputs": [],
   "source": [
    "import numpy as np\n",
    "import pandas as pd\n",
    "import matplotlib.pyplot as plt\n",
    "%matplotlib inline\n",
    "import warnings\n",
    "warnings.filterwarnings('ignore')\n",
    "import seaborn as sns"
   ]
  },
  {
   "cell_type": "code",
   "execution_count": 269,
   "id": "379e0269",
   "metadata": {},
   "outputs": [],
   "source": [
    "df=pd.read_csv(\"TaxiFare.csv\")"
   ]
  },
  {
   "cell_type": "code",
   "execution_count": 270,
   "id": "ac955a13",
   "metadata": {},
   "outputs": [
    {
     "data": {
      "text/plain": [
       "<bound method NDFrame.head of       unique_id  amount      date_time_of_pickup  longitude_of_pickup  \\\n",
       "0       26:21.0     4.5  2009-06-15 17:26:21 UTC           -73.844311   \n",
       "1       52:16.0    16.9  2010-01-05 16:52:16 UTC           -74.016048   \n",
       "2       35:00.0     5.7  2011-08-18 00:35:00 UTC           -73.982738   \n",
       "3       30:42.0     7.7  2012-04-21 04:30:42 UTC           -73.987130   \n",
       "4       51:00.0     5.3  2010-03-09 07:51:00 UTC           -73.968095   \n",
       "...         ...     ...                      ...                  ...   \n",
       "49995   25:15.0    15.0  2013-06-12 23:25:15 UTC           -73.999973   \n",
       "49996   19:18.0     7.5  2015-06-22 17:19:18 UTC           -73.984756   \n",
       "49997   53:00.0     6.9  2011-01-30 04:53:00 UTC           -74.002698   \n",
       "49998   09:00.0     4.5  2012-11-06 07:09:00 UTC           -73.946062   \n",
       "49999   13:14.0    10.9  2010-01-13 08:13:14 UTC           -73.932603   \n",
       "\n",
       "       latitude_of_pickup  longitude_of_dropoff  latitude_of_dropoff  \\\n",
       "0               40.721319            -73.841610            40.712278   \n",
       "1               40.711303            -73.979268            40.782004   \n",
       "2               40.761270            -73.991242            40.750562   \n",
       "3               40.733143            -73.991567            40.758092   \n",
       "4               40.768008            -73.956655            40.783762   \n",
       "...                   ...                   ...                  ...   \n",
       "49995           40.748531            -74.016899            40.705993   \n",
       "49996           40.768211            -73.987366            40.760597   \n",
       "49997           40.739428            -73.998108            40.759483   \n",
       "49998           40.777567            -73.953450            40.779687   \n",
       "49999           40.763805            -73.932603            40.763805   \n",
       "\n",
       "       no_of_passenger  \n",
       "0                    1  \n",
       "1                    1  \n",
       "2                    2  \n",
       "3                    1  \n",
       "4                    1  \n",
       "...                ...  \n",
       "49995                1  \n",
       "49996                1  \n",
       "49997                1  \n",
       "49998                2  \n",
       "49999                1  \n",
       "\n",
       "[50000 rows x 8 columns]>"
      ]
     },
     "execution_count": 270,
     "metadata": {},
     "output_type": "execute_result"
    }
   ],
   "source": [
    "df.head"
   ]
  },
  {
   "cell_type": "code",
   "execution_count": 271,
   "id": "27215690",
   "metadata": {},
   "outputs": [
    {
     "data": {
      "text/plain": [
       "(50000, 8)"
      ]
     },
     "execution_count": 271,
     "metadata": {},
     "output_type": "execute_result"
    }
   ],
   "source": [
    "df.shape"
   ]
  },
  {
   "cell_type": "code",
   "execution_count": 272,
   "id": "41e8ad00",
   "metadata": {},
   "outputs": [
    {
     "data": {
      "text/plain": [
       "0"
      ]
     },
     "execution_count": 272,
     "metadata": {},
     "output_type": "execute_result"
    }
   ],
   "source": [
    "df['date_time_of_pickup'].isnull().sum()"
   ]
  },
  {
   "cell_type": "code",
   "execution_count": 273,
   "id": "0ef92c87",
   "metadata": {},
   "outputs": [
    {
     "data": {
      "text/plain": [
       "(50000,)"
      ]
     },
     "execution_count": 273,
     "metadata": {},
     "output_type": "execute_result"
    }
   ],
   "source": [
    "df['date_time_of_pickup'].shape"
   ]
  },
  {
   "cell_type": "code",
   "execution_count": 274,
   "id": "d8b1bb2d",
   "metadata": {},
   "outputs": [
    {
     "data": {
      "text/plain": [
       "unique_id                object\n",
       "amount                  float64\n",
       "date_time_of_pickup      object\n",
       "longitude_of_pickup     float64\n",
       "latitude_of_pickup      float64\n",
       "longitude_of_dropoff    float64\n",
       "latitude_of_dropoff     float64\n",
       "no_of_passenger           int64\n",
       "dtype: object"
      ]
     },
     "execution_count": 274,
     "metadata": {},
     "output_type": "execute_result"
    }
   ],
   "source": [
    "df.dtypes"
   ]
  },
  {
   "cell_type": "markdown",
   "id": "ed895747",
   "metadata": {},
   "source": [
    "### Data Cleaning"
   ]
  },
  {
   "cell_type": "code",
   "execution_count": 275,
   "id": "10019d27",
   "metadata": {},
   "outputs": [
    {
     "data": {
      "text/plain": [
       "49555"
      ]
     },
     "execution_count": 275,
     "metadata": {},
     "output_type": "execute_result"
    }
   ],
   "source": [
    "df['date_time_of_pickup'].nunique()"
   ]
  },
  {
   "cell_type": "code",
   "execution_count": 276,
   "id": "5a55f844",
   "metadata": {},
   "outputs": [
    {
     "data": {
      "text/plain": [
       "unique_id               0\n",
       "amount                  0\n",
       "date_time_of_pickup     0\n",
       "longitude_of_pickup     0\n",
       "latitude_of_pickup      0\n",
       "longitude_of_dropoff    0\n",
       "latitude_of_dropoff     0\n",
       "no_of_passenger         0\n",
       "dtype: int64"
      ]
     },
     "execution_count": 276,
     "metadata": {},
     "output_type": "execute_result"
    }
   ],
   "source": [
    "df.isnull().sum()"
   ]
  },
  {
   "cell_type": "code",
   "execution_count": 277,
   "id": "e62525e3",
   "metadata": {},
   "outputs": [
    {
     "data": {
      "text/html": [
       "<div>\n",
       "<style scoped>\n",
       "    .dataframe tbody tr th:only-of-type {\n",
       "        vertical-align: middle;\n",
       "    }\n",
       "\n",
       "    .dataframe tbody tr th {\n",
       "        vertical-align: top;\n",
       "    }\n",
       "\n",
       "    .dataframe thead th {\n",
       "        text-align: right;\n",
       "    }\n",
       "</style>\n",
       "<table border=\"1\" class=\"dataframe\">\n",
       "  <thead>\n",
       "    <tr style=\"text-align: right;\">\n",
       "      <th></th>\n",
       "      <th>amount</th>\n",
       "      <th>longitude_of_pickup</th>\n",
       "      <th>latitude_of_pickup</th>\n",
       "      <th>longitude_of_dropoff</th>\n",
       "      <th>latitude_of_dropoff</th>\n",
       "      <th>no_of_passenger</th>\n",
       "    </tr>\n",
       "  </thead>\n",
       "  <tbody>\n",
       "    <tr>\n",
       "      <th>count</th>\n",
       "      <td>50000.000000</td>\n",
       "      <td>50000.000000</td>\n",
       "      <td>50000.000000</td>\n",
       "      <td>50000.000000</td>\n",
       "      <td>50000.000000</td>\n",
       "      <td>50000.000000</td>\n",
       "    </tr>\n",
       "    <tr>\n",
       "      <th>mean</th>\n",
       "      <td>11.364171</td>\n",
       "      <td>-72.509756</td>\n",
       "      <td>39.933759</td>\n",
       "      <td>-72.504616</td>\n",
       "      <td>39.926251</td>\n",
       "      <td>1.667840</td>\n",
       "    </tr>\n",
       "    <tr>\n",
       "      <th>std</th>\n",
       "      <td>9.685557</td>\n",
       "      <td>10.393860</td>\n",
       "      <td>6.224857</td>\n",
       "      <td>10.407570</td>\n",
       "      <td>6.014737</td>\n",
       "      <td>1.289195</td>\n",
       "    </tr>\n",
       "    <tr>\n",
       "      <th>min</th>\n",
       "      <td>-5.000000</td>\n",
       "      <td>-75.423848</td>\n",
       "      <td>-74.006893</td>\n",
       "      <td>-84.654241</td>\n",
       "      <td>-74.006377</td>\n",
       "      <td>0.000000</td>\n",
       "    </tr>\n",
       "    <tr>\n",
       "      <th>25%</th>\n",
       "      <td>6.000000</td>\n",
       "      <td>-73.992062</td>\n",
       "      <td>40.734880</td>\n",
       "      <td>-73.991152</td>\n",
       "      <td>40.734372</td>\n",
       "      <td>1.000000</td>\n",
       "    </tr>\n",
       "    <tr>\n",
       "      <th>50%</th>\n",
       "      <td>8.500000</td>\n",
       "      <td>-73.981840</td>\n",
       "      <td>40.752678</td>\n",
       "      <td>-73.980082</td>\n",
       "      <td>40.753372</td>\n",
       "      <td>1.000000</td>\n",
       "    </tr>\n",
       "    <tr>\n",
       "      <th>75%</th>\n",
       "      <td>12.500000</td>\n",
       "      <td>-73.967148</td>\n",
       "      <td>40.767360</td>\n",
       "      <td>-73.963584</td>\n",
       "      <td>40.768167</td>\n",
       "      <td>2.000000</td>\n",
       "    </tr>\n",
       "    <tr>\n",
       "      <th>max</th>\n",
       "      <td>200.000000</td>\n",
       "      <td>40.783472</td>\n",
       "      <td>401.083332</td>\n",
       "      <td>40.851027</td>\n",
       "      <td>43.415190</td>\n",
       "      <td>6.000000</td>\n",
       "    </tr>\n",
       "  </tbody>\n",
       "</table>\n",
       "</div>"
      ],
      "text/plain": [
       "             amount  longitude_of_pickup  latitude_of_pickup  \\\n",
       "count  50000.000000         50000.000000        50000.000000   \n",
       "mean      11.364171           -72.509756           39.933759   \n",
       "std        9.685557            10.393860            6.224857   \n",
       "min       -5.000000           -75.423848          -74.006893   \n",
       "25%        6.000000           -73.992062           40.734880   \n",
       "50%        8.500000           -73.981840           40.752678   \n",
       "75%       12.500000           -73.967148           40.767360   \n",
       "max      200.000000            40.783472          401.083332   \n",
       "\n",
       "       longitude_of_dropoff  latitude_of_dropoff  no_of_passenger  \n",
       "count          50000.000000         50000.000000     50000.000000  \n",
       "mean             -72.504616            39.926251         1.667840  \n",
       "std               10.407570             6.014737         1.289195  \n",
       "min              -84.654241           -74.006377         0.000000  \n",
       "25%              -73.991152            40.734372         1.000000  \n",
       "50%              -73.980082            40.753372         1.000000  \n",
       "75%              -73.963584            40.768167         2.000000  \n",
       "max               40.851027            43.415190         6.000000  "
      ]
     },
     "execution_count": 277,
     "metadata": {},
     "output_type": "execute_result"
    }
   ],
   "source": [
    "df.describe()"
   ]
  },
  {
   "cell_type": "markdown",
   "id": "da77ed2d",
   "metadata": {},
   "source": [
    "### Changing the dtype"
   ]
  },
  {
   "cell_type": "code",
   "execution_count": 278,
   "id": "eb931975",
   "metadata": {},
   "outputs": [],
   "source": [
    "df['date_time_of_pickup'] = pd.to_datetime(df['date_time_of_pickup'], format='%Y-%m-%d %H:%M:%S UTC')"
   ]
  },
  {
   "cell_type": "code",
   "execution_count": 279,
   "id": "b9644cfc",
   "metadata": {},
   "outputs": [
    {
     "data": {
      "text/html": [
       "<div>\n",
       "<style scoped>\n",
       "    .dataframe tbody tr th:only-of-type {\n",
       "        vertical-align: middle;\n",
       "    }\n",
       "\n",
       "    .dataframe tbody tr th {\n",
       "        vertical-align: top;\n",
       "    }\n",
       "\n",
       "    .dataframe thead th {\n",
       "        text-align: right;\n",
       "    }\n",
       "</style>\n",
       "<table border=\"1\" class=\"dataframe\">\n",
       "  <thead>\n",
       "    <tr style=\"text-align: right;\">\n",
       "      <th></th>\n",
       "      <th>unique_id</th>\n",
       "      <th>amount</th>\n",
       "      <th>date_time_of_pickup</th>\n",
       "      <th>longitude_of_pickup</th>\n",
       "      <th>latitude_of_pickup</th>\n",
       "      <th>longitude_of_dropoff</th>\n",
       "      <th>latitude_of_dropoff</th>\n",
       "      <th>no_of_passenger</th>\n",
       "    </tr>\n",
       "  </thead>\n",
       "  <tbody>\n",
       "    <tr>\n",
       "      <th>0</th>\n",
       "      <td>26:21.0</td>\n",
       "      <td>4.5</td>\n",
       "      <td>2009-06-15 17:26:21</td>\n",
       "      <td>-73.844311</td>\n",
       "      <td>40.721319</td>\n",
       "      <td>-73.841610</td>\n",
       "      <td>40.712278</td>\n",
       "      <td>1</td>\n",
       "    </tr>\n",
       "    <tr>\n",
       "      <th>1</th>\n",
       "      <td>52:16.0</td>\n",
       "      <td>16.9</td>\n",
       "      <td>2010-01-05 16:52:16</td>\n",
       "      <td>-74.016048</td>\n",
       "      <td>40.711303</td>\n",
       "      <td>-73.979268</td>\n",
       "      <td>40.782004</td>\n",
       "      <td>1</td>\n",
       "    </tr>\n",
       "    <tr>\n",
       "      <th>2</th>\n",
       "      <td>35:00.0</td>\n",
       "      <td>5.7</td>\n",
       "      <td>2011-08-18 00:35:00</td>\n",
       "      <td>-73.982738</td>\n",
       "      <td>40.761270</td>\n",
       "      <td>-73.991242</td>\n",
       "      <td>40.750562</td>\n",
       "      <td>2</td>\n",
       "    </tr>\n",
       "    <tr>\n",
       "      <th>3</th>\n",
       "      <td>30:42.0</td>\n",
       "      <td>7.7</td>\n",
       "      <td>2012-04-21 04:30:42</td>\n",
       "      <td>-73.987130</td>\n",
       "      <td>40.733143</td>\n",
       "      <td>-73.991567</td>\n",
       "      <td>40.758092</td>\n",
       "      <td>1</td>\n",
       "    </tr>\n",
       "    <tr>\n",
       "      <th>4</th>\n",
       "      <td>51:00.0</td>\n",
       "      <td>5.3</td>\n",
       "      <td>2010-03-09 07:51:00</td>\n",
       "      <td>-73.968095</td>\n",
       "      <td>40.768008</td>\n",
       "      <td>-73.956655</td>\n",
       "      <td>40.783762</td>\n",
       "      <td>1</td>\n",
       "    </tr>\n",
       "  </tbody>\n",
       "</table>\n",
       "</div>"
      ],
      "text/plain": [
       "  unique_id  amount date_time_of_pickup  longitude_of_pickup  \\\n",
       "0   26:21.0     4.5 2009-06-15 17:26:21           -73.844311   \n",
       "1   52:16.0    16.9 2010-01-05 16:52:16           -74.016048   \n",
       "2   35:00.0     5.7 2011-08-18 00:35:00           -73.982738   \n",
       "3   30:42.0     7.7 2012-04-21 04:30:42           -73.987130   \n",
       "4   51:00.0     5.3 2010-03-09 07:51:00           -73.968095   \n",
       "\n",
       "   latitude_of_pickup  longitude_of_dropoff  latitude_of_dropoff  \\\n",
       "0           40.721319            -73.841610            40.712278   \n",
       "1           40.711303            -73.979268            40.782004   \n",
       "2           40.761270            -73.991242            40.750562   \n",
       "3           40.733143            -73.991567            40.758092   \n",
       "4           40.768008            -73.956655            40.783762   \n",
       "\n",
       "   no_of_passenger  \n",
       "0                1  \n",
       "1                1  \n",
       "2                2  \n",
       "3                1  \n",
       "4                1  "
      ]
     },
     "execution_count": 279,
     "metadata": {},
     "output_type": "execute_result"
    }
   ],
   "source": [
    "df.head()"
   ]
  },
  {
   "cell_type": "markdown",
   "id": "5488a4f3",
   "metadata": {},
   "source": [
    "### Extract Hour, Date, Day, Month, Year"
   ]
  },
  {
   "cell_type": "code",
   "execution_count": 280,
   "id": "132026a4",
   "metadata": {},
   "outputs": [],
   "source": [
    "df['Hour'] = df['date_time_of_pickup'].dt.hour\n",
    "df['minute'] = df['date_time_of_pickup'].dt.minute\n",
    "df['date'] = df['date_time_of_pickup'].dt.day\n",
    "df['day'] = df['date_time_of_pickup'].dt.dayofweek\n",
    "df['month'] = df['date_time_of_pickup'].dt.month\n",
    "df['year'] = df['date_time_of_pickup'].dt.year"
   ]
  },
  {
   "cell_type": "code",
   "execution_count": 281,
   "id": "3e79cca3",
   "metadata": {},
   "outputs": [
    {
     "data": {
      "text/plain": [
       "0"
      ]
     },
     "execution_count": 281,
     "metadata": {},
     "output_type": "execute_result"
    }
   ],
   "source": [
    "df['date_time_of_pickup'].isnull().sum()"
   ]
  },
  {
   "cell_type": "code",
   "execution_count": 282,
   "id": "debb0715",
   "metadata": {},
   "outputs": [
    {
     "data": {
      "text/html": [
       "<div>\n",
       "<style scoped>\n",
       "    .dataframe tbody tr th:only-of-type {\n",
       "        vertical-align: middle;\n",
       "    }\n",
       "\n",
       "    .dataframe tbody tr th {\n",
       "        vertical-align: top;\n",
       "    }\n",
       "\n",
       "    .dataframe thead th {\n",
       "        text-align: right;\n",
       "    }\n",
       "</style>\n",
       "<table border=\"1\" class=\"dataframe\">\n",
       "  <thead>\n",
       "    <tr style=\"text-align: right;\">\n",
       "      <th></th>\n",
       "      <th>unique_id</th>\n",
       "      <th>amount</th>\n",
       "      <th>date_time_of_pickup</th>\n",
       "      <th>longitude_of_pickup</th>\n",
       "      <th>latitude_of_pickup</th>\n",
       "      <th>longitude_of_dropoff</th>\n",
       "      <th>latitude_of_dropoff</th>\n",
       "      <th>no_of_passenger</th>\n",
       "      <th>Hour</th>\n",
       "      <th>minute</th>\n",
       "      <th>date</th>\n",
       "      <th>day</th>\n",
       "      <th>month</th>\n",
       "      <th>year</th>\n",
       "    </tr>\n",
       "  </thead>\n",
       "  <tbody>\n",
       "    <tr>\n",
       "      <th>0</th>\n",
       "      <td>26:21.0</td>\n",
       "      <td>4.5</td>\n",
       "      <td>2009-06-15 17:26:21</td>\n",
       "      <td>-73.844311</td>\n",
       "      <td>40.721319</td>\n",
       "      <td>-73.841610</td>\n",
       "      <td>40.712278</td>\n",
       "      <td>1</td>\n",
       "      <td>17</td>\n",
       "      <td>26</td>\n",
       "      <td>15</td>\n",
       "      <td>0</td>\n",
       "      <td>6</td>\n",
       "      <td>2009</td>\n",
       "    </tr>\n",
       "    <tr>\n",
       "      <th>1</th>\n",
       "      <td>52:16.0</td>\n",
       "      <td>16.9</td>\n",
       "      <td>2010-01-05 16:52:16</td>\n",
       "      <td>-74.016048</td>\n",
       "      <td>40.711303</td>\n",
       "      <td>-73.979268</td>\n",
       "      <td>40.782004</td>\n",
       "      <td>1</td>\n",
       "      <td>16</td>\n",
       "      <td>52</td>\n",
       "      <td>5</td>\n",
       "      <td>1</td>\n",
       "      <td>1</td>\n",
       "      <td>2010</td>\n",
       "    </tr>\n",
       "    <tr>\n",
       "      <th>2</th>\n",
       "      <td>35:00.0</td>\n",
       "      <td>5.7</td>\n",
       "      <td>2011-08-18 00:35:00</td>\n",
       "      <td>-73.982738</td>\n",
       "      <td>40.761270</td>\n",
       "      <td>-73.991242</td>\n",
       "      <td>40.750562</td>\n",
       "      <td>2</td>\n",
       "      <td>0</td>\n",
       "      <td>35</td>\n",
       "      <td>18</td>\n",
       "      <td>3</td>\n",
       "      <td>8</td>\n",
       "      <td>2011</td>\n",
       "    </tr>\n",
       "    <tr>\n",
       "      <th>3</th>\n",
       "      <td>30:42.0</td>\n",
       "      <td>7.7</td>\n",
       "      <td>2012-04-21 04:30:42</td>\n",
       "      <td>-73.987130</td>\n",
       "      <td>40.733143</td>\n",
       "      <td>-73.991567</td>\n",
       "      <td>40.758092</td>\n",
       "      <td>1</td>\n",
       "      <td>4</td>\n",
       "      <td>30</td>\n",
       "      <td>21</td>\n",
       "      <td>5</td>\n",
       "      <td>4</td>\n",
       "      <td>2012</td>\n",
       "    </tr>\n",
       "    <tr>\n",
       "      <th>4</th>\n",
       "      <td>51:00.0</td>\n",
       "      <td>5.3</td>\n",
       "      <td>2010-03-09 07:51:00</td>\n",
       "      <td>-73.968095</td>\n",
       "      <td>40.768008</td>\n",
       "      <td>-73.956655</td>\n",
       "      <td>40.783762</td>\n",
       "      <td>1</td>\n",
       "      <td>7</td>\n",
       "      <td>51</td>\n",
       "      <td>9</td>\n",
       "      <td>1</td>\n",
       "      <td>3</td>\n",
       "      <td>2010</td>\n",
       "    </tr>\n",
       "  </tbody>\n",
       "</table>\n",
       "</div>"
      ],
      "text/plain": [
       "  unique_id  amount date_time_of_pickup  longitude_of_pickup  \\\n",
       "0   26:21.0     4.5 2009-06-15 17:26:21           -73.844311   \n",
       "1   52:16.0    16.9 2010-01-05 16:52:16           -74.016048   \n",
       "2   35:00.0     5.7 2011-08-18 00:35:00           -73.982738   \n",
       "3   30:42.0     7.7 2012-04-21 04:30:42           -73.987130   \n",
       "4   51:00.0     5.3 2010-03-09 07:51:00           -73.968095   \n",
       "\n",
       "   latitude_of_pickup  longitude_of_dropoff  latitude_of_dropoff  \\\n",
       "0           40.721319            -73.841610            40.712278   \n",
       "1           40.711303            -73.979268            40.782004   \n",
       "2           40.761270            -73.991242            40.750562   \n",
       "3           40.733143            -73.991567            40.758092   \n",
       "4           40.768008            -73.956655            40.783762   \n",
       "\n",
       "   no_of_passenger  Hour  minute  date  day  month  year  \n",
       "0                1    17      26    15    0      6  2009  \n",
       "1                1    16      52     5    1      1  2010  \n",
       "2                2     0      35    18    3      8  2011  \n",
       "3                1     4      30    21    5      4  2012  \n",
       "4                1     7      51     9    1      3  2010  "
      ]
     },
     "execution_count": 282,
     "metadata": {},
     "output_type": "execute_result"
    }
   ],
   "source": [
    "df.head()"
   ]
  },
  {
   "cell_type": "markdown",
   "id": "12c9c30e",
   "metadata": {},
   "source": [
    "### drop null row from pickup_datetime"
   ]
  },
  {
   "cell_type": "code",
   "execution_count": 283,
   "id": "b51e3c34",
   "metadata": {},
   "outputs": [],
   "source": [
    "df.drop('date_time_of_pickup', axis=1, inplace=True)"
   ]
  },
  {
   "cell_type": "code",
   "execution_count": 284,
   "id": "2d47d36f",
   "metadata": {},
   "outputs": [
    {
     "data": {
      "text/plain": [
       "unique_id               0\n",
       "amount                  0\n",
       "longitude_of_pickup     0\n",
       "latitude_of_pickup      0\n",
       "longitude_of_dropoff    0\n",
       "latitude_of_dropoff     0\n",
       "no_of_passenger         0\n",
       "Hour                    0\n",
       "minute                  0\n",
       "date                    0\n",
       "day                     0\n",
       "month                   0\n",
       "year                    0\n",
       "dtype: int64"
      ]
     },
     "execution_count": 284,
     "metadata": {},
     "output_type": "execute_result"
    }
   ],
   "source": [
    "df.isnull().sum()"
   ]
  },
  {
   "cell_type": "code",
   "execution_count": 285,
   "id": "bf5f2bec",
   "metadata": {},
   "outputs": [
    {
     "data": {
      "text/plain": [
       "(50000, 13)"
      ]
     },
     "execution_count": 285,
     "metadata": {},
     "output_type": "execute_result"
    }
   ],
   "source": [
    "df.shape"
   ]
  },
  {
   "cell_type": "code",
   "execution_count": 287,
   "id": "4e58f42c",
   "metadata": {},
   "outputs": [
    {
     "data": {
      "image/png": "[encoded data removed]",
      "text/plain": [
       "<Figure size 1600x1200 with 16 Axes>"
      ]
     },
     "metadata": {},
     "output_type": "display_data"
    }
   ],
   "source": [
    "fig, axes = plt.subplots(nrows=4, ncols=4, figsize=(16, 12))\n",
    "for i, col in enumerate(df.columns):\n",
    "    if df[col].dtype == 'float64' or df[col].dtype == 'int32':\n",
    "        ax = axes[i // 4, i % 4]\n",
    "        ax.set_title(col)\n",
    "        sns.boxplot(data=df, y=col, ax=ax)\n",
    "plt.show()\n",
    "\n",
    "\n"
   ]
  },
  {
   "cell_type": "code",
   "execution_count": 288,
   "id": "f47782c7",
   "metadata": {},
   "outputs": [
    {
     "data": {
      "text/plain": [
       "unique_id                object\n",
       "amount                  float64\n",
       "longitude_of_pickup     float64\n",
       "latitude_of_pickup      float64\n",
       "longitude_of_dropoff    float64\n",
       "latitude_of_dropoff     float64\n",
       "no_of_passenger           int64\n",
       "Hour                      int32\n",
       "minute                    int32\n",
       "date                      int32\n",
       "day                       int32\n",
       "month                     int32\n",
       "year                      int32\n",
       "dtype: object"
      ]
     },
     "execution_count": 288,
     "metadata": {},
     "output_type": "execute_result"
    }
   ],
   "source": [
    "df.dtypes"
   ]
  },
  {
   "cell_type": "code",
   "execution_count": 289,
   "id": "3ac009b7",
   "metadata": {},
   "outputs": [
    {
     "data": {
      "text/html": [
       "<div>\n",
       "<style scoped>\n",
       "    .dataframe tbody tr th:only-of-type {\n",
       "        vertical-align: middle;\n",
       "    }\n",
       "\n",
       "    .dataframe tbody tr th {\n",
       "        vertical-align: top;\n",
       "    }\n",
       "\n",
       "    .dataframe thead th {\n",
       "        text-align: right;\n",
       "    }\n",
       "</style>\n",
       "<table border=\"1\" class=\"dataframe\">\n",
       "  <thead>\n",
       "    <tr style=\"text-align: right;\">\n",
       "      <th></th>\n",
       "      <th>unique_id</th>\n",
       "      <th>amount</th>\n",
       "      <th>longitude_of_pickup</th>\n",
       "      <th>latitude_of_pickup</th>\n",
       "      <th>longitude_of_dropoff</th>\n",
       "      <th>latitude_of_dropoff</th>\n",
       "      <th>no_of_passenger</th>\n",
       "      <th>Hour</th>\n",
       "      <th>minute</th>\n",
       "      <th>date</th>\n",
       "      <th>day</th>\n",
       "      <th>month</th>\n",
       "      <th>year</th>\n",
       "    </tr>\n",
       "  </thead>\n",
       "  <tbody>\n",
       "    <tr>\n",
       "      <th>0</th>\n",
       "      <td>26:21.0</td>\n",
       "      <td>4.5</td>\n",
       "      <td>-73.844311</td>\n",
       "      <td>40.721319</td>\n",
       "      <td>-73.841610</td>\n",
       "      <td>40.712278</td>\n",
       "      <td>1</td>\n",
       "      <td>17</td>\n",
       "      <td>26</td>\n",
       "      <td>15</td>\n",
       "      <td>0</td>\n",
       "      <td>6</td>\n",
       "      <td>2009</td>\n",
       "    </tr>\n",
       "    <tr>\n",
       "      <th>1</th>\n",
       "      <td>52:16.0</td>\n",
       "      <td>16.9</td>\n",
       "      <td>-74.016048</td>\n",
       "      <td>40.711303</td>\n",
       "      <td>-73.979268</td>\n",
       "      <td>40.782004</td>\n",
       "      <td>1</td>\n",
       "      <td>16</td>\n",
       "      <td>52</td>\n",
       "      <td>5</td>\n",
       "      <td>1</td>\n",
       "      <td>1</td>\n",
       "      <td>2010</td>\n",
       "    </tr>\n",
       "    <tr>\n",
       "      <th>2</th>\n",
       "      <td>35:00.0</td>\n",
       "      <td>5.7</td>\n",
       "      <td>-73.982738</td>\n",
       "      <td>40.761270</td>\n",
       "      <td>-73.991242</td>\n",
       "      <td>40.750562</td>\n",
       "      <td>2</td>\n",
       "      <td>0</td>\n",
       "      <td>35</td>\n",
       "      <td>18</td>\n",
       "      <td>3</td>\n",
       "      <td>8</td>\n",
       "      <td>2011</td>\n",
       "    </tr>\n",
       "    <tr>\n",
       "      <th>3</th>\n",
       "      <td>30:42.0</td>\n",
       "      <td>7.7</td>\n",
       "      <td>-73.987130</td>\n",
       "      <td>40.733143</td>\n",
       "      <td>-73.991567</td>\n",
       "      <td>40.758092</td>\n",
       "      <td>1</td>\n",
       "      <td>4</td>\n",
       "      <td>30</td>\n",
       "      <td>21</td>\n",
       "      <td>5</td>\n",
       "      <td>4</td>\n",
       "      <td>2012</td>\n",
       "    </tr>\n",
       "    <tr>\n",
       "      <th>4</th>\n",
       "      <td>51:00.0</td>\n",
       "      <td>5.3</td>\n",
       "      <td>-73.968095</td>\n",
       "      <td>40.768008</td>\n",
       "      <td>-73.956655</td>\n",
       "      <td>40.783762</td>\n",
       "      <td>1</td>\n",
       "      <td>7</td>\n",
       "      <td>51</td>\n",
       "      <td>9</td>\n",
       "      <td>1</td>\n",
       "      <td>3</td>\n",
       "      <td>2010</td>\n",
       "    </tr>\n",
       "  </tbody>\n",
       "</table>\n",
       "</div>"
      ],
      "text/plain": [
       "  unique_id  amount  longitude_of_pickup  latitude_of_pickup  \\\n",
       "0   26:21.0     4.5           -73.844311           40.721319   \n",
       "1   52:16.0    16.9           -74.016048           40.711303   \n",
       "2   35:00.0     5.7           -73.982738           40.761270   \n",
       "3   30:42.0     7.7           -73.987130           40.733143   \n",
       "4   51:00.0     5.3           -73.968095           40.768008   \n",
       "\n",
       "   longitude_of_dropoff  latitude_of_dropoff  no_of_passenger  Hour  minute  \\\n",
       "0            -73.841610            40.712278                1    17      26   \n",
       "1            -73.979268            40.782004                1    16      52   \n",
       "2            -73.991242            40.750562                2     0      35   \n",
       "3            -73.991567            40.758092                1     4      30   \n",
       "4            -73.956655            40.783762                1     7      51   \n",
       "\n",
       "   date  day  month  year  \n",
       "0    15    0      6  2009  \n",
       "1     5    1      1  2010  \n",
       "2    18    3      8  2011  \n",
       "3    21    5      4  2012  \n",
       "4     9    1      3  2010  "
      ]
     },
     "execution_count": 289,
     "metadata": {},
     "output_type": "execute_result"
    }
   ],
   "source": [
    "df.head()"
   ]
  },
  {
   "cell_type": "markdown",
   "id": "6178ad41",
   "metadata": {},
   "source": [
    "### Remove Outlier"
   ]
  },
  {
   "cell_type": "code",
   "execution_count": 290,
   "id": "fa25fe52",
   "metadata": {},
   "outputs": [],
   "source": [
    "def remove_outlier(col):\n",
    "  sorted(col)\n",
    "  Q1,Q3=col.quantile([0.25,0.75])\n",
    "  IQR=Q3-Q1\n",
    "  lower_range=Q1-(1.5*IQR)\n",
    "  upper_range=Q3+(1.5*IQR)\n",
    "  return lower_range,upper_range"
   ]
  },
  {
   "cell_type": "code",
   "execution_count": 291,
   "id": "c6be8cef",
   "metadata": {},
   "outputs": [],
   "source": [
    "lowAmount,uppAmount=remove_outlier(df[\"amount\"])\n",
    "df[\"amount\"]=np.where(df[\"amount\"]>uppAmount,uppAmount,df[\"amount\"])\n",
    "df[\"amount\"]=np.where(df[\"amount\"]<lowAmount,lowAmount,df[\"amount\"])"
   ]
  },
  {
   "cell_type": "code",
   "execution_count": 292,
   "id": "56e67e91",
   "metadata": {},
   "outputs": [],
   "source": [
    "lowNop,uppNop=remove_outlier(df[\"no_of_passenger\"])\n",
    "df[\"no_of_passenger\"]=np.where(df[\"no_of_passenger\"]>uppNop,uppNop,df[\"no_of_passenger\"])\n",
    "df[\"no_of_passenger\"]=np.where(df[\"no_of_passenger\"]<lowNop,lowNop,df[\"no_of_passenger\"])"
   ]
  },
  {
   "cell_type": "code",
   "execution_count": 293,
   "id": "45321569",
   "metadata": {},
   "outputs": [
    {
     "data": {
      "text/plain": [
       "(50000, 13)"
      ]
     },
     "execution_count": 293,
     "metadata": {},
     "output_type": "execute_result"
    }
   ],
   "source": [
    "df.shape"
   ]
  },
  {
   "cell_type": "code",
   "execution_count": 294,
   "id": "a1cc2041",
   "metadata": {},
   "outputs": [
    {
     "data": {
      "text/plain": [
       "unique_id               0\n",
       "amount                  0\n",
       "longitude_of_pickup     0\n",
       "latitude_of_pickup      0\n",
       "longitude_of_dropoff    0\n",
       "latitude_of_dropoff     0\n",
       "no_of_passenger         0\n",
       "Hour                    0\n",
       "minute                  0\n",
       "date                    0\n",
       "day                     0\n",
       "month                   0\n",
       "year                    0\n",
       "dtype: int64"
      ]
     },
     "execution_count": 294,
     "metadata": {},
     "output_type": "execute_result"
    }
   ],
   "source": [
    "df.isnull().sum()"
   ]
  },
  {
   "cell_type": "code",
   "execution_count": 295,
   "id": "444376a2",
   "metadata": {},
   "outputs": [
    {
     "data": {
      "image/png": "[encoded data removed]",
      "text/plain": [
       "<Figure size 1600x1200 with 16 Axes>"
      ]
     },
     "metadata": {},
     "output_type": "display_data"
    }
   ],
   "source": [
    "fig, axes = plt.subplots(nrows=4, ncols=4, figsize=(16, 12))\n",
    "for i, col in enumerate(df.columns):\n",
    "    if df[col].dtype == 'float64' or df[col].dtype == 'int32':\n",
    "        ax = axes[i // 4, i % 4]\n",
    "        ax.set_title(col)\n",
    "        sns.boxplot(data=df, y=col, ax=ax)\n",
    "plt.show()"
   ]
  },
  {
   "cell_type": "markdown",
   "id": "385e55c6",
   "metadata": {},
   "source": [
    "### Calculate distance using Haversion formulas"
   ]
  },
  {
   "cell_type": "code",
   "execution_count": 296,
   "id": "2d8cfcc4",
   "metadata": {},
   "outputs": [],
   "source": [
    "from math import *\n",
    "\n",
    "def haversine(a):\n",
    "    lon1=a[0]\n",
    "    lat1=a[1]\n",
    "    lon2=a[2]\n",
    "    lat2=a[3]\n",
    "    \"\"\"\n",
    "    Calculate the great circle distance between two points\n",
    "    on the earth (specified in decimal degrees)\n",
    "    \"\"\"\n",
    "    # convert decimal degrees to radians\n",
    "    lon1, lat1, lon2, lat2 = map(radians, [lon1, lat1, lon2, lat2])\n",
    "\n",
    "    # haversine formula\n",
    "    dlon = lon2 - lon1\n",
    "    dlat = lat2 - lat1\n",
    "    a = sin(dlat/2)**2 + cos(lat1) * cos(lat2) * sin(dlon/2)**2\n",
    "    c =  2 * asin(sqrt(a))\n",
    "    # Radius of earth in kilometers is 6371\n",
    "    km = 6371* c\n",
    "    return km"
   ]
  },
  {
   "cell_type": "code",
   "execution_count": 297,
   "id": "d037c01a",
   "metadata": {},
   "outputs": [],
   "source": [
    "df['distance'] = df[['longitude_of_pickup','latitude_of_pickup','longitude_of_dropoff','latitude_of_dropoff']].apply(haversine,axis=1)"
   ]
  },
  {
   "cell_type": "code",
   "execution_count": 298,
   "id": "9772bfe5",
   "metadata": {},
   "outputs": [],
   "source": [
    "df.drop(['unique_id','longitude_of_pickup','latitude_of_pickup','longitude_of_dropoff','latitude_of_dropoff'], axis=1, inplace=True)"
   ]
  },
  {
   "cell_type": "code",
   "execution_count": 299,
   "id": "60cf8dab",
   "metadata": {},
   "outputs": [],
   "source": [
    "df['Hour'] = df['Hour'].astype('int64')\n",
    "df['minute'] = df['minute'].astype('int64')\n",
    "df['date'] = df['date'].astype('int64')\n",
    "df['day'] = df['day'].astype('int64')\n",
    "df['month'] = df['month'].astype('int64')\n",
    "df['year'] = df['year'].astype('int64')"
   ]
  },
  {
   "cell_type": "code",
   "execution_count": 300,
   "id": "b405c705",
   "metadata": {},
   "outputs": [
    {
     "data": {
      "text/html": [
       "<div>\n",
       "<style scoped>\n",
       "    .dataframe tbody tr th:only-of-type {\n",
       "        vertical-align: middle;\n",
       "    }\n",
       "\n",
       "    .dataframe tbody tr th {\n",
       "        vertical-align: top;\n",
       "    }\n",
       "\n",
       "    .dataframe thead th {\n",
       "        text-align: right;\n",
       "    }\n",
       "</style>\n",
       "<table border=\"1\" class=\"dataframe\">\n",
       "  <thead>\n",
       "    <tr style=\"text-align: right;\">\n",
       "      <th></th>\n",
       "      <th>amount</th>\n",
       "      <th>no_of_passenger</th>\n",
       "      <th>Hour</th>\n",
       "      <th>minute</th>\n",
       "      <th>date</th>\n",
       "      <th>day</th>\n",
       "      <th>month</th>\n",
       "      <th>year</th>\n",
       "      <th>distance</th>\n",
       "    </tr>\n",
       "  </thead>\n",
       "  <tbody>\n",
       "    <tr>\n",
       "      <th>0</th>\n",
       "      <td>4.5</td>\n",
       "      <td>1.0</td>\n",
       "      <td>17</td>\n",
       "      <td>26</td>\n",
       "      <td>15</td>\n",
       "      <td>0</td>\n",
       "      <td>6</td>\n",
       "      <td>2009</td>\n",
       "      <td>1.030764</td>\n",
       "    </tr>\n",
       "    <tr>\n",
       "      <th>1</th>\n",
       "      <td>16.9</td>\n",
       "      <td>1.0</td>\n",
       "      <td>16</td>\n",
       "      <td>52</td>\n",
       "      <td>5</td>\n",
       "      <td>1</td>\n",
       "      <td>1</td>\n",
       "      <td>2010</td>\n",
       "      <td>8.450134</td>\n",
       "    </tr>\n",
       "    <tr>\n",
       "      <th>2</th>\n",
       "      <td>5.7</td>\n",
       "      <td>2.0</td>\n",
       "      <td>0</td>\n",
       "      <td>35</td>\n",
       "      <td>18</td>\n",
       "      <td>3</td>\n",
       "      <td>8</td>\n",
       "      <td>2011</td>\n",
       "      <td>1.389525</td>\n",
       "    </tr>\n",
       "    <tr>\n",
       "      <th>3</th>\n",
       "      <td>7.7</td>\n",
       "      <td>1.0</td>\n",
       "      <td>4</td>\n",
       "      <td>30</td>\n",
       "      <td>21</td>\n",
       "      <td>5</td>\n",
       "      <td>4</td>\n",
       "      <td>2012</td>\n",
       "      <td>2.799270</td>\n",
       "    </tr>\n",
       "    <tr>\n",
       "      <th>4</th>\n",
       "      <td>5.3</td>\n",
       "      <td>1.0</td>\n",
       "      <td>7</td>\n",
       "      <td>51</td>\n",
       "      <td>9</td>\n",
       "      <td>1</td>\n",
       "      <td>3</td>\n",
       "      <td>2010</td>\n",
       "      <td>1.999157</td>\n",
       "    </tr>\n",
       "  </tbody>\n",
       "</table>\n",
       "</div>"
      ],
      "text/plain": [
       "   amount  no_of_passenger  Hour  minute  date  day  month  year  distance\n",
       "0     4.5              1.0    17      26    15    0      6  2009  1.030764\n",
       "1    16.9              1.0    16      52     5    1      1  2010  8.450134\n",
       "2     5.7              2.0     0      35    18    3      8  2011  1.389525\n",
       "3     7.7              1.0     4      30    21    5      4  2012  2.799270\n",
       "4     5.3              1.0     7      51     9    1      3  2010  1.999157"
      ]
     },
     "execution_count": 300,
     "metadata": {},
     "output_type": "execute_result"
    }
   ],
   "source": [
    "df.head()"
   ]
  },
  {
   "cell_type": "markdown",
   "id": "a27a6d33",
   "metadata": {},
   "source": [
    "### Distance should be positive less than 130km"
   ]
  },
  {
   "cell_type": "code",
   "execution_count": 301,
   "id": "6cd7a8b1",
   "metadata": {},
   "outputs": [
    {
     "data": {
      "text/plain": [
       "49999    0.0\n",
       "22469    0.0\n",
       "22455    0.0\n",
       "41969    0.0\n",
       "22452    0.0\n",
       "41979    0.0\n",
       "22429    0.0\n",
       "22426    0.0\n",
       "22400    0.0\n",
       "41997    0.0\n",
       "Name: distance, dtype: float64"
      ]
     },
     "execution_count": 301,
     "metadata": {},
     "output_type": "execute_result"
    }
   ],
   "source": [
    "df['distance'].sort_values(ascending=True).head(10)"
   ]
  },
  {
   "cell_type": "code",
   "execution_count": 302,
   "id": "6da37630",
   "metadata": {},
   "outputs": [],
   "source": [
    "lowNop,uppNop=remove_outlier(df[\"distance\"])\n",
    "df[\"distance\"]=np.where(df[\"distance\"]>uppNop,uppNop,df[\"distance\"])\n",
    "df[\"distance\"]=np.where(df[\"distance\"]<lowNop,lowNop,df[\"distance\"])"
   ]
  },
  {
   "cell_type": "code",
   "execution_count": 303,
   "id": "d07be87c",
   "metadata": {},
   "outputs": [
    {
     "data": {
      "text/html": [
       "<div>\n",
       "<style scoped>\n",
       "    .dataframe tbody tr th:only-of-type {\n",
       "        vertical-align: middle;\n",
       "    }\n",
       "\n",
       "    .dataframe tbody tr th {\n",
       "        vertical-align: top;\n",
       "    }\n",
       "\n",
       "    .dataframe thead th {\n",
       "        text-align: right;\n",
       "    }\n",
       "</style>\n",
       "<table border=\"1\" class=\"dataframe\">\n",
       "  <thead>\n",
       "    <tr style=\"text-align: right;\">\n",
       "      <th></th>\n",
       "      <th>amount</th>\n",
       "      <th>no_of_passenger</th>\n",
       "      <th>Hour</th>\n",
       "      <th>minute</th>\n",
       "      <th>date</th>\n",
       "      <th>day</th>\n",
       "      <th>month</th>\n",
       "      <th>year</th>\n",
       "      <th>distance</th>\n",
       "    </tr>\n",
       "  </thead>\n",
       "  <tbody>\n",
       "    <tr>\n",
       "      <th>0</th>\n",
       "      <td>4.5</td>\n",
       "      <td>1.0</td>\n",
       "      <td>17</td>\n",
       "      <td>26</td>\n",
       "      <td>15</td>\n",
       "      <td>0</td>\n",
       "      <td>6</td>\n",
       "      <td>2009</td>\n",
       "      <td>1.030764</td>\n",
       "    </tr>\n",
       "    <tr>\n",
       "      <th>1</th>\n",
       "      <td>16.9</td>\n",
       "      <td>1.0</td>\n",
       "      <td>16</td>\n",
       "      <td>52</td>\n",
       "      <td>5</td>\n",
       "      <td>1</td>\n",
       "      <td>1</td>\n",
       "      <td>2010</td>\n",
       "      <td>7.904207</td>\n",
       "    </tr>\n",
       "    <tr>\n",
       "      <th>2</th>\n",
       "      <td>5.7</td>\n",
       "      <td>2.0</td>\n",
       "      <td>0</td>\n",
       "      <td>35</td>\n",
       "      <td>18</td>\n",
       "      <td>3</td>\n",
       "      <td>8</td>\n",
       "      <td>2011</td>\n",
       "      <td>1.389525</td>\n",
       "    </tr>\n",
       "    <tr>\n",
       "      <th>3</th>\n",
       "      <td>7.7</td>\n",
       "      <td>1.0</td>\n",
       "      <td>4</td>\n",
       "      <td>30</td>\n",
       "      <td>21</td>\n",
       "      <td>5</td>\n",
       "      <td>4</td>\n",
       "      <td>2012</td>\n",
       "      <td>2.799270</td>\n",
       "    </tr>\n",
       "    <tr>\n",
       "      <th>4</th>\n",
       "      <td>5.3</td>\n",
       "      <td>1.0</td>\n",
       "      <td>7</td>\n",
       "      <td>51</td>\n",
       "      <td>9</td>\n",
       "      <td>1</td>\n",
       "      <td>3</td>\n",
       "      <td>2010</td>\n",
       "      <td>1.999157</td>\n",
       "    </tr>\n",
       "  </tbody>\n",
       "</table>\n",
       "</div>"
      ],
      "text/plain": [
       "   amount  no_of_passenger  Hour  minute  date  day  month  year  distance\n",
       "0     4.5              1.0    17      26    15    0      6  2009  1.030764\n",
       "1    16.9              1.0    16      52     5    1      1  2010  7.904207\n",
       "2     5.7              2.0     0      35    18    3      8  2011  1.389525\n",
       "3     7.7              1.0     4      30    21    5      4  2012  2.799270\n",
       "4     5.3              1.0     7      51     9    1      3  2010  1.999157"
      ]
     },
     "execution_count": 303,
     "metadata": {},
     "output_type": "execute_result"
    }
   ],
   "source": [
    "df.head()"
   ]
  },
  {
   "cell_type": "markdown",
   "id": "4ba95de4",
   "metadata": {},
   "source": [
    "### EDA"
   ]
  },
  {
   "cell_type": "code",
   "execution_count": 304,
   "id": "25b96d4a",
   "metadata": {},
   "outputs": [
    {
     "data": {
      "text/plain": [
       "<Axes: ylabel='no_of_passenger'>"
      ]
     },
     "execution_count": 304,
     "metadata": {},
     "output_type": "execute_result"
    },
    {
     "data": {
      "image/png": "[encoded data removed]",
      "text/plain": [
       "<Figure size 1000x500 with 1 Axes>"
      ]
     },
     "metadata": {},
     "output_type": "display_data"
    }
   ],
   "source": [
    "plt.figure(figsize=(10,5))\n",
    "sns.boxplot(y=df['no_of_passenger'])"
   ]
  },
  {
   "cell_type": "code",
   "execution_count": 305,
   "id": "aad713cb",
   "metadata": {},
   "outputs": [
    {
     "data": {
      "text/plain": [
       "<Axes: ylabel='amount'>"
      ]
     },
     "execution_count": 305,
     "metadata": {},
     "output_type": "execute_result"
    },
    {
     "data": {
      "image/png": "[encoded data removed]",
      "text/plain": [
       "<Figure size 1000x500 with 1 Axes>"
      ]
     },
     "metadata": {},
     "output_type": "display_data"
    }
   ],
   "source": [
    "plt.figure(figsize=(10,5))\n",
    "sns.boxplot(y=df['amount'])"
   ]
  },
  {
   "cell_type": "code",
   "execution_count": 306,
   "id": "e7611a2b",
   "metadata": {},
   "outputs": [
    {
     "data": {
      "text/plain": [
       "<Axes: ylabel='distance'>"
      ]
     },
     "execution_count": 306,
     "metadata": {},
     "output_type": "execute_result"
    },
    {
     "data": {
      "image/png": "[encoded data removed]",
      "text/plain": [
       "<Figure size 640x480 with 1 Axes>"
      ]
     },
     "metadata": {},
     "output_type": "display_data"
    }
   ],
   "source": [
    "sns.boxplot(y=df['distance'])"
   ]
  },
  {
   "cell_type": "code",
   "execution_count": 307,
   "id": "e54586d9",
   "metadata": {},
   "outputs": [
    {
     "data": {
      "text/html": [
       "<div>\n",
       "<style scoped>\n",
       "    .dataframe tbody tr th:only-of-type {\n",
       "        vertical-align: middle;\n",
       "    }\n",
       "\n",
       "    .dataframe tbody tr th {\n",
       "        vertical-align: top;\n",
       "    }\n",
       "\n",
       "    .dataframe thead th {\n",
       "        text-align: right;\n",
       "    }\n",
       "</style>\n",
       "<table border=\"1\" class=\"dataframe\">\n",
       "  <thead>\n",
       "    <tr style=\"text-align: right;\">\n",
       "      <th></th>\n",
       "      <th>amount</th>\n",
       "      <th>no_of_passenger</th>\n",
       "      <th>Hour</th>\n",
       "      <th>minute</th>\n",
       "      <th>date</th>\n",
       "      <th>day</th>\n",
       "      <th>month</th>\n",
       "      <th>year</th>\n",
       "      <th>distance</th>\n",
       "    </tr>\n",
       "  </thead>\n",
       "  <tbody>\n",
       "    <tr>\n",
       "      <th>count</th>\n",
       "      <td>50000.000000</td>\n",
       "      <td>50000.000000</td>\n",
       "      <td>50000.000000</td>\n",
       "      <td>50000.000000</td>\n",
       "      <td>50000.000000</td>\n",
       "      <td>50000.000000</td>\n",
       "      <td>50000.000000</td>\n",
       "      <td>50000.000000</td>\n",
       "      <td>50000.000000</td>\n",
       "    </tr>\n",
       "    <tr>\n",
       "      <th>mean</th>\n",
       "      <td>10.107126</td>\n",
       "      <td>1.504640</td>\n",
       "      <td>13.489080</td>\n",
       "      <td>29.665420</td>\n",
       "      <td>15.672040</td>\n",
       "      <td>3.029980</td>\n",
       "      <td>6.273300</td>\n",
       "      <td>2011.739260</td>\n",
       "      <td>2.867761</td>\n",
       "    </tr>\n",
       "    <tr>\n",
       "      <th>std</th>\n",
       "      <td>5.464402</td>\n",
       "      <td>0.867908</td>\n",
       "      <td>6.506935</td>\n",
       "      <td>17.306535</td>\n",
       "      <td>8.660789</td>\n",
       "      <td>1.956936</td>\n",
       "      <td>3.461157</td>\n",
       "      <td>1.862639</td>\n",
       "      <td>2.238482</td>\n",
       "    </tr>\n",
       "    <tr>\n",
       "      <th>min</th>\n",
       "      <td>-3.750000</td>\n",
       "      <td>0.000000</td>\n",
       "      <td>0.000000</td>\n",
       "      <td>0.000000</td>\n",
       "      <td>1.000000</td>\n",
       "      <td>0.000000</td>\n",
       "      <td>1.000000</td>\n",
       "      <td>2009.000000</td>\n",
       "      <td>0.000000</td>\n",
       "    </tr>\n",
       "    <tr>\n",
       "      <th>25%</th>\n",
       "      <td>6.000000</td>\n",
       "      <td>1.000000</td>\n",
       "      <td>9.000000</td>\n",
       "      <td>15.000000</td>\n",
       "      <td>8.000000</td>\n",
       "      <td>1.000000</td>\n",
       "      <td>3.000000</td>\n",
       "      <td>2010.000000</td>\n",
       "      <td>1.223146</td>\n",
       "    </tr>\n",
       "    <tr>\n",
       "      <th>50%</th>\n",
       "      <td>8.500000</td>\n",
       "      <td>1.000000</td>\n",
       "      <td>14.000000</td>\n",
       "      <td>30.000000</td>\n",
       "      <td>16.000000</td>\n",
       "      <td>3.000000</td>\n",
       "      <td>6.000000</td>\n",
       "      <td>2012.000000</td>\n",
       "      <td>2.120114</td>\n",
       "    </tr>\n",
       "    <tr>\n",
       "      <th>75%</th>\n",
       "      <td>12.500000</td>\n",
       "      <td>2.000000</td>\n",
       "      <td>19.000000</td>\n",
       "      <td>45.000000</td>\n",
       "      <td>23.000000</td>\n",
       "      <td>5.000000</td>\n",
       "      <td>9.000000</td>\n",
       "      <td>2013.000000</td>\n",
       "      <td>3.895570</td>\n",
       "    </tr>\n",
       "    <tr>\n",
       "      <th>max</th>\n",
       "      <td>22.250000</td>\n",
       "      <td>3.500000</td>\n",
       "      <td>23.000000</td>\n",
       "      <td>59.000000</td>\n",
       "      <td>31.000000</td>\n",
       "      <td>6.000000</td>\n",
       "      <td>12.000000</td>\n",
       "      <td>2015.000000</td>\n",
       "      <td>7.904207</td>\n",
       "    </tr>\n",
       "  </tbody>\n",
       "</table>\n",
       "</div>"
      ],
      "text/plain": [
       "             amount  no_of_passenger          Hour        minute  \\\n",
       "count  50000.000000     50000.000000  50000.000000  50000.000000   \n",
       "mean      10.107126         1.504640     13.489080     29.665420   \n",
       "std        5.464402         0.867908      6.506935     17.306535   \n",
       "min       -3.750000         0.000000      0.000000      0.000000   \n",
       "25%        6.000000         1.000000      9.000000     15.000000   \n",
       "50%        8.500000         1.000000     14.000000     30.000000   \n",
       "75%       12.500000         2.000000     19.000000     45.000000   \n",
       "max       22.250000         3.500000     23.000000     59.000000   \n",
       "\n",
       "               date           day         month          year      distance  \n",
       "count  50000.000000  50000.000000  50000.000000  50000.000000  50000.000000  \n",
       "mean      15.672040      3.029980      6.273300   2011.739260      2.867761  \n",
       "std        8.660789      1.956936      3.461157      1.862639      2.238482  \n",
       "min        1.000000      0.000000      1.000000   2009.000000      0.000000  \n",
       "25%        8.000000      1.000000      3.000000   2010.000000      1.223146  \n",
       "50%       16.000000      3.000000      6.000000   2012.000000      2.120114  \n",
       "75%       23.000000      5.000000      9.000000   2013.000000      3.895570  \n",
       "max       31.000000      6.000000     12.000000   2015.000000      7.904207  "
      ]
     },
     "execution_count": 307,
     "metadata": {},
     "output_type": "execute_result"
    }
   ],
   "source": [
    "df.describe()"
   ]
  },
  {
   "cell_type": "code",
   "execution_count": 308,
   "id": "b378417f",
   "metadata": {},
   "outputs": [],
   "source": [
    "df['no_of_passenger'] = df['no_of_passenger'].astype('int64')"
   ]
  },
  {
   "cell_type": "code",
   "execution_count": 309,
   "id": "fb818c4c",
   "metadata": {},
   "outputs": [
    {
     "data": {
      "text/html": [
       "<div>\n",
       "<style scoped>\n",
       "    .dataframe tbody tr th:only-of-type {\n",
       "        vertical-align: middle;\n",
       "    }\n",
       "\n",
       "    .dataframe tbody tr th {\n",
       "        vertical-align: top;\n",
       "    }\n",
       "\n",
       "    .dataframe thead th {\n",
       "        text-align: right;\n",
       "    }\n",
       "</style>\n",
       "<table border=\"1\" class=\"dataframe\">\n",
       "  <thead>\n",
       "    <tr style=\"text-align: right;\">\n",
       "      <th></th>\n",
       "      <th>amount</th>\n",
       "      <th>no_of_passenger</th>\n",
       "      <th>Hour</th>\n",
       "      <th>minute</th>\n",
       "      <th>date</th>\n",
       "      <th>day</th>\n",
       "      <th>month</th>\n",
       "      <th>year</th>\n",
       "      <th>distance</th>\n",
       "    </tr>\n",
       "  </thead>\n",
       "  <tbody>\n",
       "    <tr>\n",
       "      <th>0</th>\n",
       "      <td>4.5</td>\n",
       "      <td>1</td>\n",
       "      <td>17</td>\n",
       "      <td>26</td>\n",
       "      <td>15</td>\n",
       "      <td>0</td>\n",
       "      <td>6</td>\n",
       "      <td>2009</td>\n",
       "      <td>1.030764</td>\n",
       "    </tr>\n",
       "    <tr>\n",
       "      <th>1</th>\n",
       "      <td>16.9</td>\n",
       "      <td>1</td>\n",
       "      <td>16</td>\n",
       "      <td>52</td>\n",
       "      <td>5</td>\n",
       "      <td>1</td>\n",
       "      <td>1</td>\n",
       "      <td>2010</td>\n",
       "      <td>7.904207</td>\n",
       "    </tr>\n",
       "    <tr>\n",
       "      <th>2</th>\n",
       "      <td>5.7</td>\n",
       "      <td>2</td>\n",
       "      <td>0</td>\n",
       "      <td>35</td>\n",
       "      <td>18</td>\n",
       "      <td>3</td>\n",
       "      <td>8</td>\n",
       "      <td>2011</td>\n",
       "      <td>1.389525</td>\n",
       "    </tr>\n",
       "    <tr>\n",
       "      <th>3</th>\n",
       "      <td>7.7</td>\n",
       "      <td>1</td>\n",
       "      <td>4</td>\n",
       "      <td>30</td>\n",
       "      <td>21</td>\n",
       "      <td>5</td>\n",
       "      <td>4</td>\n",
       "      <td>2012</td>\n",
       "      <td>2.799270</td>\n",
       "    </tr>\n",
       "    <tr>\n",
       "      <th>4</th>\n",
       "      <td>5.3</td>\n",
       "      <td>1</td>\n",
       "      <td>7</td>\n",
       "      <td>51</td>\n",
       "      <td>9</td>\n",
       "      <td>1</td>\n",
       "      <td>3</td>\n",
       "      <td>2010</td>\n",
       "      <td>1.999157</td>\n",
       "    </tr>\n",
       "  </tbody>\n",
       "</table>\n",
       "</div>"
      ],
      "text/plain": [
       "   amount  no_of_passenger  Hour  minute  date  day  month  year  distance\n",
       "0     4.5                1    17      26    15    0      6  2009  1.030764\n",
       "1    16.9                1    16      52     5    1      1  2010  7.904207\n",
       "2     5.7                2     0      35    18    3      8  2011  1.389525\n",
       "3     7.7                1     4      30    21    5      4  2012  2.799270\n",
       "4     5.3                1     7      51     9    1      3  2010  1.999157"
      ]
     },
     "execution_count": 309,
     "metadata": {},
     "output_type": "execute_result"
    }
   ],
   "source": [
    "df.head()"
   ]
  },
  {
   "cell_type": "code",
   "execution_count": 310,
   "id": "4fb40320",
   "metadata": {},
   "outputs": [
    {
     "data": {
      "text/plain": [
       "amount             float64\n",
       "no_of_passenger      int64\n",
       "Hour                 int64\n",
       "minute               int64\n",
       "date                 int64\n",
       "day                  int64\n",
       "month                int64\n",
       "year                 int64\n",
       "distance           float64\n",
       "dtype: object"
      ]
     },
     "execution_count": 310,
     "metadata": {},
     "output_type": "execute_result"
    }
   ],
   "source": [
    "df.dtypes"
   ]
  },
  {
   "cell_type": "markdown",
   "id": "7ed9e8fd",
   "metadata": {},
   "source": [
    "### Train Test Split"
   ]
  },
  {
   "cell_type": "code",
   "execution_count": 311,
   "id": "76fe7b0c",
   "metadata": {},
   "outputs": [],
   "source": [
    "y=df[[\"amount\"]]\n",
    "X=df.drop([\"amount\"],axis=1)"
   ]
  },
  {
   "cell_type": "code",
   "execution_count": 312,
   "id": "9a7da778",
   "metadata": {},
   "outputs": [],
   "source": [
    "from sklearn.model_selection import train_test_split\n",
    "from sklearn.linear_model import LinearRegression"
   ]
  },
  {
   "cell_type": "code",
   "execution_count": 313,
   "id": "822c12ec",
   "metadata": {},
   "outputs": [],
   "source": [
    "X_train,X_test,y_train,y_test=train_test_split(X,y,test_size=0.30,random_state=1)"
   ]
  },
  {
   "cell_type": "code",
   "execution_count": 314,
   "id": "de155610",
   "metadata": {},
   "outputs": [],
   "source": [
    "model_lr=LinearRegression()"
   ]
  },
  {
   "cell_type": "code",
   "execution_count": 315,
   "id": "e1dc21d8",
   "metadata": {},
   "outputs": [
    {
     "data": {
      "text/html": [
       "<style>#sk-container-id-1 {color: black;}#sk-container-id-1 pre{padding: 0;}#sk-container-id-1 div.sk-toggleable {background-color: white;}#sk-container-id-1 label.sk-toggleable__label {cursor: pointer;display: block;width: 100%;margin-bottom: 0;padding: 0.3em;box-sizing: border-box;text-align: center;}#sk-container-id-1 label.sk-toggleable__label-arrow:before {content: \"▸\";float: left;margin-right: 0.25em;color: #696969;}#sk-container-id-1 label.sk-toggleable__label-arrow:hover:before {color: black;}#sk-container-id-1 div.sk-estimator:hover label.sk-toggleable__label-arrow:before {color: black;}#sk-container-id-1 div.sk-toggleable__content {max-height: 0;max-width: 0;overflow: hidden;text-align: left;background-color: #f0f8ff;}#sk-container-id-1 div.sk-toggleable__content pre {margin: 0.2em;color: black;border-radius: 0.25em;background-color: #f0f8ff;}#sk-container-id-1 input.sk-toggleable__control:checked~div.sk-toggleable__content {max-height: 200px;max-width: 100%;overflow: auto;}#sk-container-id-1 input.sk-toggleable__control:checked~label.sk-toggleable__label-arrow:before {content: \"▾\";}#sk-container-id-1 div.sk-estimator input.sk-toggleable__control:checked~label.sk-toggleable__label {background-color: #d4ebff;}#sk-container-id-1 div.sk-label input.sk-toggleable__control:checked~label.sk-toggleable__label {background-color: #d4ebff;}#sk-container-id-1 input.sk-hidden--visually {border: 0;clip: rect(1px 1px 1px 1px);clip: rect(1px, 1px, 1px, 1px);height: 1px;margin: -1px;overflow: hidden;padding: 0;position: absolute;width: 1px;}#sk-container-id-1 div.sk-estimator {font-family: monospace;background-color: #f0f8ff;border: 1px dotted black;border-radius: 0.25em;box-sizing: border-box;margin-bottom: 0.5em;}#sk-container-id-1 div.sk-estimator:hover {background-color: #d4ebff;}#sk-container-id-1 div.sk-parallel-item::after {content: \"\";width: 100%;border-bottom: 1px solid gray;flex-grow: 1;}#sk-container-id-1 div.sk-label:hover label.sk-toggleable__label {background-color: #d4ebff;}#sk-container-id-1 div.sk-serial::before {content: \"\";position: absolute;border-left: 1px solid gray;box-sizing: border-box;top: 0;bottom: 0;left: 50%;z-index: 0;}#sk-container-id-1 div.sk-serial {display: flex;flex-direction: column;align-items: center;background-color: white;padding-right: 0.2em;padding-left: 0.2em;position: relative;}#sk-container-id-1 div.sk-item {position: relative;z-index: 1;}#sk-container-id-1 div.sk-parallel {display: flex;align-items: stretch;justify-content: center;background-color: white;position: relative;}#sk-container-id-1 div.sk-item::before, #sk-container-id-1 div.sk-parallel-item::before {content: \"\";position: absolute;border-left: 1px solid gray;box-sizing: border-box;top: 0;bottom: 0;left: 50%;z-index: -1;}#sk-container-id-1 div.sk-parallel-item {display: flex;flex-direction: column;z-index: 1;position: relative;background-color: white;}#sk-container-id-1 div.sk-parallel-item:first-child::after {align-self: flex-end;width: 50%;}#sk-container-id-1 div.sk-parallel-item:last-child::after {align-self: flex-start;width: 50%;}#sk-container-id-1 div.sk-parallel-item:only-child::after {width: 0;}#sk-container-id-1 div.sk-dashed-wrapped {border: 1px dashed gray;margin: 0 0.4em 0.5em 0.4em;box-sizing: border-box;padding-bottom: 0.4em;background-color: white;}#sk-container-id-1 div.sk-label label {font-family: monospace;font-weight: bold;display: inline-block;line-height: 1.2em;}#sk-container-id-1 div.sk-label-container {text-align: center;}#sk-container-id-1 div.sk-container {/* jupyter's `normalize.less` sets `[hidden] { display: none; }` but bootstrap.min.css set `[hidden] { display: none !important; }` so we also need the `!important` here to be able to override the default hidden behavior on the sphinx rendered scikit-learn.org. See: https://github.com/scikit-learn/scikit-learn/issues/21755 */display: inline-block !important;position: relative;}#sk-container-id-1 div.sk-text-repr-fallback {display: none;}</style><div id=\"sk-container-id-1\" class=\"sk-top-container\"><div class=\"sk-text-repr-fallback\"><pre>LinearRegression()</pre><b>In a Jupyter environment, please rerun this cell to show the HTML representation or trust the notebook. <br />On GitHub, the HTML representation is unable to render, please try loading this page with nbviewer.org.</b></div><div class=\"sk-container\" hidden><div class=\"sk-item\"><div class=\"sk-estimator sk-toggleable\"><input class=\"sk-toggleable__control sk-hidden--visually\" id=\"sk-estimator-id-1\" type=\"checkbox\" checked><label for=\"sk-estimator-id-1\" class=\"sk-toggleable__label sk-toggleable__label-arrow\">LinearRegression</label><div class=\"sk-toggleable__content\"><pre>LinearRegression()</pre></div></div></div></div></div>"
      ],
      "text/plain": [
       "LinearRegression()"
      ]
     },
     "execution_count": 315,
     "metadata": {},
     "output_type": "execute_result"
    }
   ],
   "source": [
    "model_lr.fit(X_train,y_train)"
   ]
  },
  {
   "cell_type": "code",
   "execution_count": 316,
   "id": "8faa96d0",
   "metadata": {},
   "outputs": [
    {
     "data": {
      "text/plain": [
       "0.7271973310213358"
      ]
     },
     "execution_count": 316,
     "metadata": {},
     "output_type": "execute_result"
    }
   ],
   "source": [
    "model_lr.score(X_train,y_train)"
   ]
  },
  {
   "cell_type": "code",
   "execution_count": 317,
   "id": "e3be1b46",
   "metadata": {},
   "outputs": [
    {
     "data": {
      "text/plain": [
       "0.7313937601998302"
      ]
     },
     "execution_count": 317,
     "metadata": {},
     "output_type": "execute_result"
    }
   ],
   "source": [
    "model_lr.score(X_test,y_test)"
   ]
  },
  {
   "cell_type": "markdown",
   "id": "322433f0",
   "metadata": {},
   "source": [
    "### Model Selection"
   ]
  },
  {
   "cell_type": "code",
   "execution_count": 318,
   "id": "590ccab0",
   "metadata": {},
   "outputs": [],
   "source": [
    "from sklearn.ensemble import RandomForestRegressor\n",
    "\n",
    "model_rfr = RandomForestRegressor(n_estimators=50,min_samples_leaf=25)\n"
   ]
  },
  {
   "cell_type": "code",
   "execution_count": 319,
   "id": "d1679f96",
   "metadata": {},
   "outputs": [
    {
     "data": {
      "text/html": [
       "<style>#sk-container-id-2 {color: black;}#sk-container-id-2 pre{padding: 0;}#sk-container-id-2 div.sk-toggleable {background-color: white;}#sk-container-id-2 label.sk-toggleable__label {cursor: pointer;display: block;width: 100%;margin-bottom: 0;padding: 0.3em;box-sizing: border-box;text-align: center;}#sk-container-id-2 label.sk-toggleable__label-arrow:before {content: \"▸\";float: left;margin-right: 0.25em;color: #696969;}#sk-container-id-2 label.sk-toggleable__label-arrow:hover:before {color: black;}#sk-container-id-2 div.sk-estimator:hover label.sk-toggleable__label-arrow:before {color: black;}#sk-container-id-2 div.sk-toggleable__content {max-height: 0;max-width: 0;overflow: hidden;text-align: left;background-color: #f0f8ff;}#sk-container-id-2 div.sk-toggleable__content pre {margin: 0.2em;color: black;border-radius: 0.25em;background-color: #f0f8ff;}#sk-container-id-2 input.sk-toggleable__control:checked~div.sk-toggleable__content {max-height: 200px;max-width: 100%;overflow: auto;}#sk-container-id-2 input.sk-toggleable__control:checked~label.sk-toggleable__label-arrow:before {content: \"▾\";}#sk-container-id-2 div.sk-estimator input.sk-toggleable__control:checked~label.sk-toggleable__label {background-color: #d4ebff;}#sk-container-id-2 div.sk-label input.sk-toggleable__control:checked~label.sk-toggleable__label {background-color: #d4ebff;}#sk-container-id-2 input.sk-hidden--visually {border: 0;clip: rect(1px 1px 1px 1px);clip: rect(1px, 1px, 1px, 1px);height: 1px;margin: -1px;overflow: hidden;padding: 0;position: absolute;width: 1px;}#sk-container-id-2 div.sk-estimator {font-family: monospace;background-color: #f0f8ff;border: 1px dotted black;border-radius: 0.25em;box-sizing: border-box;margin-bottom: 0.5em;}#sk-container-id-2 div.sk-estimator:hover {background-color: #d4ebff;}#sk-container-id-2 div.sk-parallel-item::after {content: \"\";width: 100%;border-bottom: 1px solid gray;flex-grow: 1;}#sk-container-id-2 div.sk-label:hover label.sk-toggleable__label {background-color: #d4ebff;}#sk-container-id-2 div.sk-serial::before {content: \"\";position: absolute;border-left: 1px solid gray;box-sizing: border-box;top: 0;bottom: 0;left: 50%;z-index: 0;}#sk-container-id-2 div.sk-serial {display: flex;flex-direction: column;align-items: center;background-color: white;padding-right: 0.2em;padding-left: 0.2em;position: relative;}#sk-container-id-2 div.sk-item {position: relative;z-index: 1;}#sk-container-id-2 div.sk-parallel {display: flex;align-items: stretch;justify-content: center;background-color: white;position: relative;}#sk-container-id-2 div.sk-item::before, #sk-container-id-2 div.sk-parallel-item::before {content: \"\";position: absolute;border-left: 1px solid gray;box-sizing: border-box;top: 0;bottom: 0;left: 50%;z-index: -1;}#sk-container-id-2 div.sk-parallel-item {display: flex;flex-direction: column;z-index: 1;position: relative;background-color: white;}#sk-container-id-2 div.sk-parallel-item:first-child::after {align-self: flex-end;width: 50%;}#sk-container-id-2 div.sk-parallel-item:last-child::after {align-self: flex-start;width: 50%;}#sk-container-id-2 div.sk-parallel-item:only-child::after {width: 0;}#sk-container-id-2 div.sk-dashed-wrapped {border: 1px dashed gray;margin: 0 0.4em 0.5em 0.4em;box-sizing: border-box;padding-bottom: 0.4em;background-color: white;}#sk-container-id-2 div.sk-label label {font-family: monospace;font-weight: bold;display: inline-block;line-height: 1.2em;}#sk-container-id-2 div.sk-label-container {text-align: center;}#sk-container-id-2 div.sk-container {/* jupyter's `normalize.less` sets `[hidden] { display: none; }` but bootstrap.min.css set `[hidden] { display: none !important; }` so we also need the `!important` here to be able to override the default hidden behavior on the sphinx rendered scikit-learn.org. See: https://github.com/scikit-learn/scikit-learn/issues/21755 */display: inline-block !important;position: relative;}#sk-container-id-2 div.sk-text-repr-fallback {display: none;}</style><div id=\"sk-container-id-2\" class=\"sk-top-container\"><div class=\"sk-text-repr-fallback\"><pre>RandomForestRegressor(min_samples_leaf=25, n_estimators=50)</pre><b>In a Jupyter environment, please rerun this cell to show the HTML representation or trust the notebook. <br />On GitHub, the HTML representation is unable to render, please try loading this page with nbviewer.org.</b></div><div class=\"sk-container\" hidden><div class=\"sk-item\"><div class=\"sk-estimator sk-toggleable\"><input class=\"sk-toggleable__control sk-hidden--visually\" id=\"sk-estimator-id-2\" type=\"checkbox\" checked><label for=\"sk-estimator-id-2\" class=\"sk-toggleable__label sk-toggleable__label-arrow\">RandomForestRegressor</label><div class=\"sk-toggleable__content\"><pre>RandomForestRegressor(min_samples_leaf=25, n_estimators=50)</pre></div></div></div></div></div>"
      ],
      "text/plain": [
       "RandomForestRegressor(min_samples_leaf=25, n_estimators=50)"
      ]
     },
     "execution_count": 319,
     "metadata": {},
     "output_type": "execute_result"
    }
   ],
   "source": [
    "model_rfr.fit(X_train, y_train)"
   ]
  },
  {
   "cell_type": "code",
   "execution_count": 320,
   "id": "76b4095c",
   "metadata": {},
   "outputs": [
    {
     "data": {
      "text/plain": [
       "0.8105750166488829"
      ]
     },
     "execution_count": 320,
     "metadata": {},
     "output_type": "execute_result"
    }
   ],
   "source": [
    "model_rfr.score(X_train,y_train)\n"
   ]
  },
  {
   "cell_type": "code",
   "execution_count": 321,
   "id": "669e7164",
   "metadata": {},
   "outputs": [
    {
     "data": {
      "text/plain": [
       "0.7854167904291409"
      ]
     },
     "execution_count": 321,
     "metadata": {},
     "output_type": "execute_result"
    }
   ],
   "source": [
    "model_rfr.score(X_test,y_test)"
   ]
  },
  {
   "cell_type": "code",
   "execution_count": 322,
   "id": "4858c84b",
   "metadata": {},
   "outputs": [],
   "source": [
    "from sklearn.tree import DecisionTreeRegressor"
   ]
  },
  {
   "cell_type": "code",
   "execution_count": 323,
   "id": "f5e30c4d",
   "metadata": {},
   "outputs": [],
   "source": [
    "model_dtr=DecisionTreeRegressor(max_depth=3)"
   ]
  },
  {
   "cell_type": "code",
   "execution_count": 324,
   "id": "d017826e",
   "metadata": {},
   "outputs": [
    {
     "data": {
      "text/html": [
       "<style>#sk-container-id-3 {color: black;}#sk-container-id-3 pre{padding: 0;}#sk-container-id-3 div.sk-toggleable {background-color: white;}#sk-container-id-3 label.sk-toggleable__label {cursor: pointer;display: block;width: 100%;margin-bottom: 0;padding: 0.3em;box-sizing: border-box;text-align: center;}#sk-container-id-3 label.sk-toggleable__label-arrow:before {content: \"▸\";float: left;margin-right: 0.25em;color: #696969;}#sk-container-id-3 label.sk-toggleable__label-arrow:hover:before {color: black;}#sk-container-id-3 div.sk-estimator:hover label.sk-toggleable__label-arrow:before {color: black;}#sk-container-id-3 div.sk-toggleable__content {max-height: 0;max-width: 0;overflow: hidden;text-align: left;background-color: #f0f8ff;}#sk-container-id-3 div.sk-toggleable__content pre {margin: 0.2em;color: black;border-radius: 0.25em;background-color: #f0f8ff;}#sk-container-id-3 input.sk-toggleable__control:checked~div.sk-toggleable__content {max-height: 200px;max-width: 100%;overflow: auto;}#sk-container-id-3 input.sk-toggleable__control:checked~label.sk-toggleable__label-arrow:before {content: \"▾\";}#sk-container-id-3 div.sk-estimator input.sk-toggleable__control:checked~label.sk-toggleable__label {background-color: #d4ebff;}#sk-container-id-3 div.sk-label input.sk-toggleable__control:checked~label.sk-toggleable__label {background-color: #d4ebff;}#sk-container-id-3 input.sk-hidden--visually {border: 0;clip: rect(1px 1px 1px 1px);clip: rect(1px, 1px, 1px, 1px);height: 1px;margin: -1px;overflow: hidden;padding: 0;position: absolute;width: 1px;}#sk-container-id-3 div.sk-estimator {font-family: monospace;background-color: #f0f8ff;border: 1px dotted black;border-radius: 0.25em;box-sizing: border-box;margin-bottom: 0.5em;}#sk-container-id-3 div.sk-estimator:hover {background-color: #d4ebff;}#sk-container-id-3 div.sk-parallel-item::after {content: \"\";width: 100%;border-bottom: 1px solid gray;flex-grow: 1;}#sk-container-id-3 div.sk-label:hover label.sk-toggleable__label {background-color: #d4ebff;}#sk-container-id-3 div.sk-serial::before {content: \"\";position: absolute;border-left: 1px solid gray;box-sizing: border-box;top: 0;bottom: 0;left: 50%;z-index: 0;}#sk-container-id-3 div.sk-serial {display: flex;flex-direction: column;align-items: center;background-color: white;padding-right: 0.2em;padding-left: 0.2em;position: relative;}#sk-container-id-3 div.sk-item {position: relative;z-index: 1;}#sk-container-id-3 div.sk-parallel {display: flex;align-items: stretch;justify-content: center;background-color: white;position: relative;}#sk-container-id-3 div.sk-item::before, #sk-container-id-3 div.sk-parallel-item::before {content: \"\";position: absolute;border-left: 1px solid gray;box-sizing: border-box;top: 0;bottom: 0;left: 50%;z-index: -1;}#sk-container-id-3 div.sk-parallel-item {display: flex;flex-direction: column;z-index: 1;position: relative;background-color: white;}#sk-container-id-3 div.sk-parallel-item:first-child::after {align-self: flex-end;width: 50%;}#sk-container-id-3 div.sk-parallel-item:last-child::after {align-self: flex-start;width: 50%;}#sk-container-id-3 div.sk-parallel-item:only-child::after {width: 0;}#sk-container-id-3 div.sk-dashed-wrapped {border: 1px dashed gray;margin: 0 0.4em 0.5em 0.4em;box-sizing: border-box;padding-bottom: 0.4em;background-color: white;}#sk-container-id-3 div.sk-label label {font-family: monospace;font-weight: bold;display: inline-block;line-height: 1.2em;}#sk-container-id-3 div.sk-label-container {text-align: center;}#sk-container-id-3 div.sk-container {/* jupyter's `normalize.less` sets `[hidden] { display: none; }` but bootstrap.min.css set `[hidden] { display: none !important; }` so we also need the `!important` here to be able to override the default hidden behavior on the sphinx rendered scikit-learn.org. See: https://github.com/scikit-learn/scikit-learn/issues/21755 */display: inline-block !important;position: relative;}#sk-container-id-3 div.sk-text-repr-fallback {display: none;}</style><div id=\"sk-container-id-3\" class=\"sk-top-container\"><div class=\"sk-text-repr-fallback\"><pre>DecisionTreeRegressor(max_depth=3)</pre><b>In a Jupyter environment, please rerun this cell to show the HTML representation or trust the notebook. <br />On GitHub, the HTML representation is unable to render, please try loading this page with nbviewer.org.</b></div><div class=\"sk-container\" hidden><div class=\"sk-item\"><div class=\"sk-estimator sk-toggleable\"><input class=\"sk-toggleable__control sk-hidden--visually\" id=\"sk-estimator-id-3\" type=\"checkbox\" checked><label for=\"sk-estimator-id-3\" class=\"sk-toggleable__label sk-toggleable__label-arrow\">DecisionTreeRegressor</label><div class=\"sk-toggleable__content\"><pre>DecisionTreeRegressor(max_depth=3)</pre></div></div></div></div></div>"
      ],
      "text/plain": [
       "DecisionTreeRegressor(max_depth=3)"
      ]
     },
     "execution_count": 324,
     "metadata": {},
     "output_type": "execute_result"
    }
   ],
   "source": [
    "model_dtr.fit(X_train,y_train)"
   ]
  },
  {
   "cell_type": "code",
   "execution_count": 325,
   "id": "8bf5c3c3",
   "metadata": {},
   "outputs": [
    {
     "data": {
      "text/plain": [
       "0.7296919752047635"
      ]
     },
     "execution_count": 325,
     "metadata": {},
     "output_type": "execute_result"
    }
   ],
   "source": [
    "model_dtr.score(X_train,y_train)"
   ]
  },
  {
   "cell_type": "code",
   "execution_count": 326,
   "id": "6382995d",
   "metadata": {},
   "outputs": [
    {
     "data": {
      "text/plain": [
       "0.7286516964243781"
      ]
     },
     "execution_count": 326,
     "metadata": {},
     "output_type": "execute_result"
    }
   ],
   "source": [
    "model_dtr.score(X_test,y_test)"
   ]
  },
  {
   "cell_type": "code",
   "execution_count": 327,
   "id": "443e042f",
   "metadata": {},
   "outputs": [
    {
     "name": "stdout",
     "output_type": "stream",
     "text": [
      "0.7388159562413129\n"
     ]
    },
    {
     "data": {
      "text/plain": [
       "0.7382842638720124"
      ]
     },
     "execution_count": 327,
     "metadata": {},
     "output_type": "execute_result"
    }
   ],
   "source": [
    "from sklearn.ensemble import BaggingRegressor\n",
    "\n",
    "model_bcl=BaggingRegressor(n_estimators=50,base_estimator=model_dtr)\n",
    "\n",
    "model_bcl.fit(X_train,y_train)\n",
    "\n",
    "print(model_bcl.score(X_train,y_train))\n",
    "\n",
    "model_bcl.score(X_test,y_test)"
   ]
  },
  {
   "cell_type": "code",
   "execution_count": 328,
   "id": "1b49824e",
   "metadata": {},
   "outputs": [],
   "source": [
    "from sklearn.ensemble import AdaBoostRegressor"
   ]
  },
  {
   "cell_type": "code",
   "execution_count": 329,
   "id": "04fab32b",
   "metadata": {},
   "outputs": [],
   "source": [
    "model_abr=AdaBoostRegressor(n_estimators=50,loss='linear',learning_rate=1.0,)"
   ]
  },
  {
   "cell_type": "code",
   "execution_count": 330,
   "id": "47874f17",
   "metadata": {},
   "outputs": [
    {
     "data": {
      "text/html": [
       "<style>#sk-container-id-4 {color: black;}#sk-container-id-4 pre{padding: 0;}#sk-container-id-4 div.sk-toggleable {background-color: white;}#sk-container-id-4 label.sk-toggleable__label {cursor: pointer;display: block;width: 100%;margin-bottom: 0;padding: 0.3em;box-sizing: border-box;text-align: center;}#sk-container-id-4 label.sk-toggleable__label-arrow:before {content: \"▸\";float: left;margin-right: 0.25em;color: #696969;}#sk-container-id-4 label.sk-toggleable__label-arrow:hover:before {color: black;}#sk-container-id-4 div.sk-estimator:hover label.sk-toggleable__label-arrow:before {color: black;}#sk-container-id-4 div.sk-toggleable__content {max-height: 0;max-width: 0;overflow: hidden;text-align: left;background-color: #f0f8ff;}#sk-container-id-4 div.sk-toggleable__content pre {margin: 0.2em;color: black;border-radius: 0.25em;background-color: #f0f8ff;}#sk-container-id-4 input.sk-toggleable__control:checked~div.sk-toggleable__content {max-height: 200px;max-width: 100%;overflow: auto;}#sk-container-id-4 input.sk-toggleable__control:checked~label.sk-toggleable__label-arrow:before {content: \"▾\";}#sk-container-id-4 div.sk-estimator input.sk-toggleable__control:checked~label.sk-toggleable__label {background-color: #d4ebff;}#sk-container-id-4 div.sk-label input.sk-toggleable__control:checked~label.sk-toggleable__label {background-color: #d4ebff;}#sk-container-id-4 input.sk-hidden--visually {border: 0;clip: rect(1px 1px 1px 1px);clip: rect(1px, 1px, 1px, 1px);height: 1px;margin: -1px;overflow: hidden;padding: 0;position: absolute;width: 1px;}#sk-container-id-4 div.sk-estimator {font-family: monospace;background-color: #f0f8ff;border: 1px dotted black;border-radius: 0.25em;box-sizing: border-box;margin-bottom: 0.5em;}#sk-container-id-4 div.sk-estimator:hover {background-color: #d4ebff;}#sk-container-id-4 div.sk-parallel-item::after {content: \"\";width: 100%;border-bottom: 1px solid gray;flex-grow: 1;}#sk-container-id-4 div.sk-label:hover label.sk-toggleable__label {background-color: #d4ebff;}#sk-container-id-4 div.sk-serial::before {content: \"\";position: absolute;border-left: 1px solid gray;box-sizing: border-box;top: 0;bottom: 0;left: 50%;z-index: 0;}#sk-container-id-4 div.sk-serial {display: flex;flex-direction: column;align-items: center;background-color: white;padding-right: 0.2em;padding-left: 0.2em;position: relative;}#sk-container-id-4 div.sk-item {position: relative;z-index: 1;}#sk-container-id-4 div.sk-parallel {display: flex;align-items: stretch;justify-content: center;background-color: white;position: relative;}#sk-container-id-4 div.sk-item::before, #sk-container-id-4 div.sk-parallel-item::before {content: \"\";position: absolute;border-left: 1px solid gray;box-sizing: border-box;top: 0;bottom: 0;left: 50%;z-index: -1;}#sk-container-id-4 div.sk-parallel-item {display: flex;flex-direction: column;z-index: 1;position: relative;background-color: white;}#sk-container-id-4 div.sk-parallel-item:first-child::after {align-self: flex-end;width: 50%;}#sk-container-id-4 div.sk-parallel-item:last-child::after {align-self: flex-start;width: 50%;}#sk-container-id-4 div.sk-parallel-item:only-child::after {width: 0;}#sk-container-id-4 div.sk-dashed-wrapped {border: 1px dashed gray;margin: 0 0.4em 0.5em 0.4em;box-sizing: border-box;padding-bottom: 0.4em;background-color: white;}#sk-container-id-4 div.sk-label label {font-family: monospace;font-weight: bold;display: inline-block;line-height: 1.2em;}#sk-container-id-4 div.sk-label-container {text-align: center;}#sk-container-id-4 div.sk-container {/* jupyter's `normalize.less` sets `[hidden] { display: none; }` but bootstrap.min.css set `[hidden] { display: none !important; }` so we also need the `!important` here to be able to override the default hidden behavior on the sphinx rendered scikit-learn.org. See: https://github.com/scikit-learn/scikit-learn/issues/21755 */display: inline-block !important;position: relative;}#sk-container-id-4 div.sk-text-repr-fallback {display: none;}</style><div id=\"sk-container-id-4\" class=\"sk-top-container\"><div class=\"sk-text-repr-fallback\"><pre>AdaBoostRegressor()</pre><b>In a Jupyter environment, please rerun this cell to show the HTML representation or trust the notebook. <br />On GitHub, the HTML representation is unable to render, please try loading this page with nbviewer.org.</b></div><div class=\"sk-container\" hidden><div class=\"sk-item\"><div class=\"sk-estimator sk-toggleable\"><input class=\"sk-toggleable__control sk-hidden--visually\" id=\"sk-estimator-id-4\" type=\"checkbox\" checked><label for=\"sk-estimator-id-4\" class=\"sk-toggleable__label sk-toggleable__label-arrow\">AdaBoostRegressor</label><div class=\"sk-toggleable__content\"><pre>AdaBoostRegressor()</pre></div></div></div></div></div>"
      ],
      "text/plain": [
       "AdaBoostRegressor()"
      ]
     },
     "execution_count": 330,
     "metadata": {},
     "output_type": "execute_result"
    }
   ],
   "source": [
    "model_abr.fit(X_train,y_train)"
   ]
  },
  {
   "cell_type": "code",
   "execution_count": 331,
   "id": "45f6c57c",
   "metadata": {},
   "outputs": [
    {
     "data": {
      "text/plain": [
       "0.5799686502913137"
      ]
     },
     "execution_count": 331,
     "metadata": {},
     "output_type": "execute_result"
    }
   ],
   "source": [
    "model_abr.score(X_train,y_train)"
   ]
  },
  {
   "cell_type": "code",
   "execution_count": 332,
   "id": "ddb1e121",
   "metadata": {},
   "outputs": [
    {
     "data": {
      "text/plain": [
       "0.5726548481177739"
      ]
     },
     "execution_count": 332,
     "metadata": {},
     "output_type": "execute_result"
    }
   ],
   "source": [
    "model_abr.score(X_test,y_test)"
   ]
  },
  {
   "cell_type": "code",
   "execution_count": 333,
   "id": "2acb4b36",
   "metadata": {},
   "outputs": [],
   "source": [
    "from sklearn.ensemble import GradientBoostingRegressor"
   ]
  },
  {
   "cell_type": "code",
   "execution_count": 334,
   "id": "7503fe82",
   "metadata": {},
   "outputs": [],
   "source": [
    "model_gbr=GradientBoostingRegressor()"
   ]
  },
  {
   "cell_type": "code",
   "execution_count": 335,
   "id": "038d163d",
   "metadata": {},
   "outputs": [
    {
     "data": {
      "text/html": [
       "<style>#sk-container-id-5 {color: black;}#sk-container-id-5 pre{padding: 0;}#sk-container-id-5 div.sk-toggleable {background-color: white;}#sk-container-id-5 label.sk-toggleable__label {cursor: pointer;display: block;width: 100%;margin-bottom: 0;padding: 0.3em;box-sizing: border-box;text-align: center;}#sk-container-id-5 label.sk-toggleable__label-arrow:before {content: \"▸\";float: left;margin-right: 0.25em;color: #696969;}#sk-container-id-5 label.sk-toggleable__label-arrow:hover:before {color: black;}#sk-container-id-5 div.sk-estimator:hover label.sk-toggleable__label-arrow:before {color: black;}#sk-container-id-5 div.sk-toggleable__content {max-height: 0;max-width: 0;overflow: hidden;text-align: left;background-color: #f0f8ff;}#sk-container-id-5 div.sk-toggleable__content pre {margin: 0.2em;color: black;border-radius: 0.25em;background-color: #f0f8ff;}#sk-container-id-5 input.sk-toggleable__control:checked~div.sk-toggleable__content {max-height: 200px;max-width: 100%;overflow: auto;}#sk-container-id-5 input.sk-toggleable__control:checked~label.sk-toggleable__label-arrow:before {content: \"▾\";}#sk-container-id-5 div.sk-estimator input.sk-toggleable__control:checked~label.sk-toggleable__label {background-color: #d4ebff;}#sk-container-id-5 div.sk-label input.sk-toggleable__control:checked~label.sk-toggleable__label {background-color: #d4ebff;}#sk-container-id-5 input.sk-hidden--visually {border: 0;clip: rect(1px 1px 1px 1px);clip: rect(1px, 1px, 1px, 1px);height: 1px;margin: -1px;overflow: hidden;padding: 0;position: absolute;width: 1px;}#sk-container-id-5 div.sk-estimator {font-family: monospace;background-color: #f0f8ff;border: 1px dotted black;border-radius: 0.25em;box-sizing: border-box;margin-bottom: 0.5em;}#sk-container-id-5 div.sk-estimator:hover {background-color: #d4ebff;}#sk-container-id-5 div.sk-parallel-item::after {content: \"\";width: 100%;border-bottom: 1px solid gray;flex-grow: 1;}#sk-container-id-5 div.sk-label:hover label.sk-toggleable__label {background-color: #d4ebff;}#sk-container-id-5 div.sk-serial::before {content: \"\";position: absolute;border-left: 1px solid gray;box-sizing: border-box;top: 0;bottom: 0;left: 50%;z-index: 0;}#sk-container-id-5 div.sk-serial {display: flex;flex-direction: column;align-items: center;background-color: white;padding-right: 0.2em;padding-left: 0.2em;position: relative;}#sk-container-id-5 div.sk-item {position: relative;z-index: 1;}#sk-container-id-5 div.sk-parallel {display: flex;align-items: stretch;justify-content: center;background-color: white;position: relative;}#sk-container-id-5 div.sk-item::before, #sk-container-id-5 div.sk-parallel-item::before {content: \"\";position: absolute;border-left: 1px solid gray;box-sizing: border-box;top: 0;bottom: 0;left: 50%;z-index: -1;}#sk-container-id-5 div.sk-parallel-item {display: flex;flex-direction: column;z-index: 1;position: relative;background-color: white;}#sk-container-id-5 div.sk-parallel-item:first-child::after {align-self: flex-end;width: 50%;}#sk-container-id-5 div.sk-parallel-item:last-child::after {align-self: flex-start;width: 50%;}#sk-container-id-5 div.sk-parallel-item:only-child::after {width: 0;}#sk-container-id-5 div.sk-dashed-wrapped {border: 1px dashed gray;margin: 0 0.4em 0.5em 0.4em;box-sizing: border-box;padding-bottom: 0.4em;background-color: white;}#sk-container-id-5 div.sk-label label {font-family: monospace;font-weight: bold;display: inline-block;line-height: 1.2em;}#sk-container-id-5 div.sk-label-container {text-align: center;}#sk-container-id-5 div.sk-container {/* jupyter's `normalize.less` sets `[hidden] { display: none; }` but bootstrap.min.css set `[hidden] { display: none !important; }` so we also need the `!important` here to be able to override the default hidden behavior on the sphinx rendered scikit-learn.org. See: https://github.com/scikit-learn/scikit-learn/issues/21755 */display: inline-block !important;position: relative;}#sk-container-id-5 div.sk-text-repr-fallback {display: none;}</style><div id=\"sk-container-id-5\" class=\"sk-top-container\"><div class=\"sk-text-repr-fallback\"><pre>GradientBoostingRegressor()</pre><b>In a Jupyter environment, please rerun this cell to show the HTML representation or trust the notebook. <br />On GitHub, the HTML representation is unable to render, please try loading this page with nbviewer.org.</b></div><div class=\"sk-container\" hidden><div class=\"sk-item\"><div class=\"sk-estimator sk-toggleable\"><input class=\"sk-toggleable__control sk-hidden--visually\" id=\"sk-estimator-id-5\" type=\"checkbox\" checked><label for=\"sk-estimator-id-5\" class=\"sk-toggleable__label sk-toggleable__label-arrow\">GradientBoostingRegressor</label><div class=\"sk-toggleable__content\"><pre>GradientBoostingRegressor()</pre></div></div></div></div></div>"
      ],
      "text/plain": [
       "GradientBoostingRegressor()"
      ]
     },
     "execution_count": 335,
     "metadata": {},
     "output_type": "execute_result"
    }
   ],
   "source": [
    "model_gbr.fit(X_train,y_train)"
   ]
  },
  {
   "cell_type": "code",
   "execution_count": 336,
   "id": "a054c8a6",
   "metadata": {},
   "outputs": [
    {
     "data": {
      "text/plain": [
       "0.7888875201067826"
      ]
     },
     "execution_count": 336,
     "metadata": {},
     "output_type": "execute_result"
    }
   ],
   "source": [
    "model_gbr.score(X_train,y_train)"
   ]
  },
  {
   "cell_type": "code",
   "execution_count": 337,
   "id": "f82db755",
   "metadata": {},
   "outputs": [
    {
     "data": {
      "text/plain": [
       "0.7854770496945614"
      ]
     },
     "execution_count": 337,
     "metadata": {},
     "output_type": "execute_result"
    }
   ],
   "source": [
    "model_gbr.score(X_test,y_test)"
   ]
  },
  {
   "cell_type": "code",
   "execution_count": 338,
   "id": "99e2b43a",
   "metadata": {},
   "outputs": [],
   "source": [
    "from sklearn.svm import SVR"
   ]
  },
  {
   "cell_type": "code",
   "execution_count": 339,
   "id": "3424566a",
   "metadata": {},
   "outputs": [],
   "source": [
    "model_svr=SVR(kernel='rbf',C=2.0,degree=3,gamma='scale',)"
   ]
  },
  {
   "cell_type": "code",
   "execution_count": 340,
   "id": "0acf48be",
   "metadata": {},
   "outputs": [
    {
     "data": {
      "text/html": [
       "<style>#sk-container-id-6 {color: black;}#sk-container-id-6 pre{padding: 0;}#sk-container-id-6 div.sk-toggleable {background-color: white;}#sk-container-id-6 label.sk-toggleable__label {cursor: pointer;display: block;width: 100%;margin-bottom: 0;padding: 0.3em;box-sizing: border-box;text-align: center;}#sk-container-id-6 label.sk-toggleable__label-arrow:before {content: \"▸\";float: left;margin-right: 0.25em;color: #696969;}#sk-container-id-6 label.sk-toggleable__label-arrow:hover:before {color: black;}#sk-container-id-6 div.sk-estimator:hover label.sk-toggleable__label-arrow:before {color: black;}#sk-container-id-6 div.sk-toggleable__content {max-height: 0;max-width: 0;overflow: hidden;text-align: left;background-color: #f0f8ff;}#sk-container-id-6 div.sk-toggleable__content pre {margin: 0.2em;color: black;border-radius: 0.25em;background-color: #f0f8ff;}#sk-container-id-6 input.sk-toggleable__control:checked~div.sk-toggleable__content {max-height: 200px;max-width: 100%;overflow: auto;}#sk-container-id-6 input.sk-toggleable__control:checked~label.sk-toggleable__label-arrow:before {content: \"▾\";}#sk-container-id-6 div.sk-estimator input.sk-toggleable__control:checked~label.sk-toggleable__label {background-color: #d4ebff;}#sk-container-id-6 div.sk-label input.sk-toggleable__control:checked~label.sk-toggleable__label {background-color: #d4ebff;}#sk-container-id-6 input.sk-hidden--visually {border: 0;clip: rect(1px 1px 1px 1px);clip: rect(1px, 1px, 1px, 1px);height: 1px;margin: -1px;overflow: hidden;padding: 0;position: absolute;width: 1px;}#sk-container-id-6 div.sk-estimator {font-family: monospace;background-color: #f0f8ff;border: 1px dotted black;border-radius: 0.25em;box-sizing: border-box;margin-bottom: 0.5em;}#sk-container-id-6 div.sk-estimator:hover {background-color: #d4ebff;}#sk-container-id-6 div.sk-parallel-item::after {content: \"\";width: 100%;border-bottom: 1px solid gray;flex-grow: 1;}#sk-container-id-6 div.sk-label:hover label.sk-toggleable__label {background-color: #d4ebff;}#sk-container-id-6 div.sk-serial::before {content: \"\";position: absolute;border-left: 1px solid gray;box-sizing: border-box;top: 0;bottom: 0;left: 50%;z-index: 0;}#sk-container-id-6 div.sk-serial {display: flex;flex-direction: column;align-items: center;background-color: white;padding-right: 0.2em;padding-left: 0.2em;position: relative;}#sk-container-id-6 div.sk-item {position: relative;z-index: 1;}#sk-container-id-6 div.sk-parallel {display: flex;align-items: stretch;justify-content: center;background-color: white;position: relative;}#sk-container-id-6 div.sk-item::before, #sk-container-id-6 div.sk-parallel-item::before {content: \"\";position: absolute;border-left: 1px solid gray;box-sizing: border-box;top: 0;bottom: 0;left: 50%;z-index: -1;}#sk-container-id-6 div.sk-parallel-item {display: flex;flex-direction: column;z-index: 1;position: relative;background-color: white;}#sk-container-id-6 div.sk-parallel-item:first-child::after {align-self: flex-end;width: 50%;}#sk-container-id-6 div.sk-parallel-item:last-child::after {align-self: flex-start;width: 50%;}#sk-container-id-6 div.sk-parallel-item:only-child::after {width: 0;}#sk-container-id-6 div.sk-dashed-wrapped {border: 1px dashed gray;margin: 0 0.4em 0.5em 0.4em;box-sizing: border-box;padding-bottom: 0.4em;background-color: white;}#sk-container-id-6 div.sk-label label {font-family: monospace;font-weight: bold;display: inline-block;line-height: 1.2em;}#sk-container-id-6 div.sk-label-container {text-align: center;}#sk-container-id-6 div.sk-container {/* jupyter's `normalize.less` sets `[hidden] { display: none; }` but bootstrap.min.css set `[hidden] { display: none !important; }` so we also need the `!important` here to be able to override the default hidden behavior on the sphinx rendered scikit-learn.org. See: https://github.com/scikit-learn/scikit-learn/issues/21755 */display: inline-block !important;position: relative;}#sk-container-id-6 div.sk-text-repr-fallback {display: none;}</style><div id=\"sk-container-id-6\" class=\"sk-top-container\"><div class=\"sk-text-repr-fallback\"><pre>SVR(C=2.0)</pre><b>In a Jupyter environment, please rerun this cell to show the HTML representation or trust the notebook. <br />On GitHub, the HTML representation is unable to render, please try loading this page with nbviewer.org.</b></div><div class=\"sk-container\" hidden><div class=\"sk-item\"><div class=\"sk-estimator sk-toggleable\"><input class=\"sk-toggleable__control sk-hidden--visually\" id=\"sk-estimator-id-6\" type=\"checkbox\" checked><label for=\"sk-estimator-id-6\" class=\"sk-toggleable__label sk-toggleable__label-arrow\">SVR</label><div class=\"sk-toggleable__content\"><pre>SVR(C=2.0)</pre></div></div></div></div></div>"
      ],
      "text/plain": [
       "SVR(C=2.0)"
      ]
     },
     "execution_count": 340,
     "metadata": {},
     "output_type": "execute_result"
    }
   ],
   "source": [
    "model_svr.fit(X_train,y_train)"
   ]
  },
  {
   "cell_type": "code",
   "execution_count": 341,
   "id": "7d0473d2",
   "metadata": {},
   "outputs": [
    {
     "data": {
      "text/plain": [
       "-0.05249503585364157"
      ]
     },
     "execution_count": 341,
     "metadata": {},
     "output_type": "execute_result"
    }
   ],
   "source": [
    "model_svr.score(X_train,y_train)"
   ]
  },
  {
   "cell_type": "code",
   "execution_count": 342,
   "id": "b7a8f434",
   "metadata": {},
   "outputs": [
    {
     "data": {
      "text/plain": [
       "-0.044953974059138035"
      ]
     },
     "execution_count": 342,
     "metadata": {},
     "output_type": "execute_result"
    }
   ],
   "source": [
    "model_svr.score(X_test,y_test)"
   ]
  },
  {
   "cell_type": "markdown",
   "id": "db1556a1",
   "metadata": {},
   "source": [
    "# Project 2 (h1n1_vaccine_prediction)"
   ]
  },
  {
   "cell_type": "code",
   "execution_count": 343,
   "id": "76e647ce",
   "metadata": {},
   "outputs": [],
   "source": [
    "import numpy as np\n",
    "import pandas as pd\n",
    "import matplotlib.pyplot as plt\n",
    "%matplotlib inline\n",
    "import warnings\n",
    "warnings.filterwarnings('ignore')\n",
    "import seaborn as sns"
   ]
  },
  {
   "cell_type": "code",
   "execution_count": 344,
   "id": "dd54c41e",
   "metadata": {},
   "outputs": [],
   "source": [
    "vaccine=pd.read_csv(\"h1n1_vaccine_prediction.csv\")"
   ]
  },
  {
   "cell_type": "code",
   "execution_count": 345,
   "id": "38ca7db8",
   "metadata": {},
   "outputs": [
    {
     "data": {
      "text/html": [
       "<div>\n",
       "<style scoped>\n",
       "    .dataframe tbody tr th:only-of-type {\n",
       "        vertical-align: middle;\n",
       "    }\n",
       "\n",
       "    .dataframe tbody tr th {\n",
       "        vertical-align: top;\n",
       "    }\n",
       "\n",
       "    .dataframe thead th {\n",
       "        text-align: right;\n",
       "    }\n",
       "</style>\n",
       "<table border=\"1\" class=\"dataframe\">\n",
       "  <thead>\n",
       "    <tr style=\"text-align: right;\">\n",
       "      <th></th>\n",
       "      <th>unique_id</th>\n",
       "      <th>h1n1_worry</th>\n",
       "      <th>h1n1_awareness</th>\n",
       "      <th>antiviral_medication</th>\n",
       "      <th>contact_avoidance</th>\n",
       "      <th>bought_face_mask</th>\n",
       "      <th>wash_hands_frequently</th>\n",
       "      <th>avoid_large_gatherings</th>\n",
       "      <th>reduced_outside_home_cont</th>\n",
       "      <th>avoid_touch_face</th>\n",
       "      <th>...</th>\n",
       "      <th>race</th>\n",
       "      <th>sex</th>\n",
       "      <th>income_level</th>\n",
       "      <th>marital_status</th>\n",
       "      <th>housing_status</th>\n",
       "      <th>employment</th>\n",
       "      <th>census_msa</th>\n",
       "      <th>no_of_adults</th>\n",
       "      <th>no_of_children</th>\n",
       "      <th>h1n1_vaccine</th>\n",
       "    </tr>\n",
       "  </thead>\n",
       "  <tbody>\n",
       "    <tr>\n",
       "      <th>0</th>\n",
       "      <td>0</td>\n",
       "      <td>1.0</td>\n",
       "      <td>0.0</td>\n",
       "      <td>0.0</td>\n",
       "      <td>0.0</td>\n",
       "      <td>0.0</td>\n",
       "      <td>0.0</td>\n",
       "      <td>0.0</td>\n",
       "      <td>1.0</td>\n",
       "      <td>1.0</td>\n",
       "      <td>...</td>\n",
       "      <td>White</td>\n",
       "      <td>Female</td>\n",
       "      <td>Below Poverty</td>\n",
       "      <td>Not Married</td>\n",
       "      <td>Own</td>\n",
       "      <td>Not in Labor Force</td>\n",
       "      <td>Non-MSA</td>\n",
       "      <td>0.0</td>\n",
       "      <td>0.0</td>\n",
       "      <td>0</td>\n",
       "    </tr>\n",
       "    <tr>\n",
       "      <th>1</th>\n",
       "      <td>1</td>\n",
       "      <td>3.0</td>\n",
       "      <td>2.0</td>\n",
       "      <td>0.0</td>\n",
       "      <td>1.0</td>\n",
       "      <td>0.0</td>\n",
       "      <td>1.0</td>\n",
       "      <td>0.0</td>\n",
       "      <td>1.0</td>\n",
       "      <td>1.0</td>\n",
       "      <td>...</td>\n",
       "      <td>White</td>\n",
       "      <td>Male</td>\n",
       "      <td>Below Poverty</td>\n",
       "      <td>Not Married</td>\n",
       "      <td>Rent</td>\n",
       "      <td>Employed</td>\n",
       "      <td>MSA, Not Principle  City</td>\n",
       "      <td>0.0</td>\n",
       "      <td>0.0</td>\n",
       "      <td>0</td>\n",
       "    </tr>\n",
       "    <tr>\n",
       "      <th>2</th>\n",
       "      <td>2</td>\n",
       "      <td>1.0</td>\n",
       "      <td>1.0</td>\n",
       "      <td>0.0</td>\n",
       "      <td>1.0</td>\n",
       "      <td>0.0</td>\n",
       "      <td>0.0</td>\n",
       "      <td>0.0</td>\n",
       "      <td>0.0</td>\n",
       "      <td>0.0</td>\n",
       "      <td>...</td>\n",
       "      <td>White</td>\n",
       "      <td>Male</td>\n",
       "      <td>&lt;= $75,000, Above Poverty</td>\n",
       "      <td>Not Married</td>\n",
       "      <td>Own</td>\n",
       "      <td>Employed</td>\n",
       "      <td>MSA, Not Principle  City</td>\n",
       "      <td>2.0</td>\n",
       "      <td>0.0</td>\n",
       "      <td>0</td>\n",
       "    </tr>\n",
       "    <tr>\n",
       "      <th>3</th>\n",
       "      <td>3</td>\n",
       "      <td>1.0</td>\n",
       "      <td>1.0</td>\n",
       "      <td>0.0</td>\n",
       "      <td>1.0</td>\n",
       "      <td>0.0</td>\n",
       "      <td>1.0</td>\n",
       "      <td>1.0</td>\n",
       "      <td>0.0</td>\n",
       "      <td>0.0</td>\n",
       "      <td>...</td>\n",
       "      <td>White</td>\n",
       "      <td>Female</td>\n",
       "      <td>Below Poverty</td>\n",
       "      <td>Not Married</td>\n",
       "      <td>Rent</td>\n",
       "      <td>Not in Labor Force</td>\n",
       "      <td>MSA, Principle City</td>\n",
       "      <td>0.0</td>\n",
       "      <td>0.0</td>\n",
       "      <td>0</td>\n",
       "    </tr>\n",
       "    <tr>\n",
       "      <th>4</th>\n",
       "      <td>4</td>\n",
       "      <td>2.0</td>\n",
       "      <td>1.0</td>\n",
       "      <td>0.0</td>\n",
       "      <td>1.0</td>\n",
       "      <td>0.0</td>\n",
       "      <td>1.0</td>\n",
       "      <td>1.0</td>\n",
       "      <td>0.0</td>\n",
       "      <td>1.0</td>\n",
       "      <td>...</td>\n",
       "      <td>White</td>\n",
       "      <td>Female</td>\n",
       "      <td>&lt;= $75,000, Above Poverty</td>\n",
       "      <td>Married</td>\n",
       "      <td>Own</td>\n",
       "      <td>Employed</td>\n",
       "      <td>MSA, Not Principle  City</td>\n",
       "      <td>1.0</td>\n",
       "      <td>0.0</td>\n",
       "      <td>0</td>\n",
       "    </tr>\n",
       "  </tbody>\n",
       "</table>\n",
       "<p>5 rows × 34 columns</p>\n",
       "</div>"
      ],
      "text/plain": [
       "   unique_id  h1n1_worry  h1n1_awareness  antiviral_medication  \\\n",
       "0          0         1.0             0.0                   0.0   \n",
       "1          1         3.0             2.0                   0.0   \n",
       "2          2         1.0             1.0                   0.0   \n",
       "3          3         1.0             1.0                   0.0   \n",
       "4          4         2.0             1.0                   0.0   \n",
       "\n",
       "   contact_avoidance  bought_face_mask  wash_hands_frequently  \\\n",
       "0                0.0               0.0                    0.0   \n",
       "1                1.0               0.0                    1.0   \n",
       "2                1.0               0.0                    0.0   \n",
       "3                1.0               0.0                    1.0   \n",
       "4                1.0               0.0                    1.0   \n",
       "\n",
       "   avoid_large_gatherings  reduced_outside_home_cont  avoid_touch_face  ...  \\\n",
       "0                     0.0                        1.0               1.0  ...   \n",
       "1                     0.0                        1.0               1.0  ...   \n",
       "2                     0.0                        0.0               0.0  ...   \n",
       "3                     1.0                        0.0               0.0  ...   \n",
       "4                     1.0                        0.0               1.0  ...   \n",
       "\n",
       "    race     sex               income_level  marital_status  housing_status  \\\n",
       "0  White  Female              Below Poverty     Not Married             Own   \n",
       "1  White    Male              Below Poverty     Not Married            Rent   \n",
       "2  White    Male  <= $75,000, Above Poverty     Not Married             Own   \n",
       "3  White  Female              Below Poverty     Not Married            Rent   \n",
       "4  White  Female  <= $75,000, Above Poverty         Married             Own   \n",
       "\n",
       "           employment                census_msa  no_of_adults  no_of_children  \\\n",
       "0  Not in Labor Force                   Non-MSA           0.0             0.0   \n",
       "1            Employed  MSA, Not Principle  City           0.0             0.0   \n",
       "2            Employed  MSA, Not Principle  City           2.0             0.0   \n",
       "3  Not in Labor Force       MSA, Principle City           0.0             0.0   \n",
       "4            Employed  MSA, Not Principle  City           1.0             0.0   \n",
       "\n",
       "   h1n1_vaccine  \n",
       "0             0  \n",
       "1             0  \n",
       "2             0  \n",
       "3             0  \n",
       "4             0  \n",
       "\n",
       "[5 rows x 34 columns]"
      ]
     },
     "execution_count": 345,
     "metadata": {},
     "output_type": "execute_result"
    }
   ],
   "source": [
    "vaccine.head()"
   ]
  },
  {
   "cell_type": "code",
   "execution_count": 346,
   "id": "59fef236",
   "metadata": {},
   "outputs": [
    {
     "name": "stdout",
     "output_type": "stream",
     "text": [
      "<class 'pandas.core.frame.DataFrame'>\n",
      "RangeIndex: 26707 entries, 0 to 26706\n",
      "Data columns (total 34 columns):\n",
      " #   Column                     Non-Null Count  Dtype  \n",
      "---  ------                     --------------  -----  \n",
      " 0   unique_id                  26707 non-null  int64  \n",
      " 1   h1n1_worry                 26615 non-null  float64\n",
      " 2   h1n1_awareness             26591 non-null  float64\n",
      " 3   antiviral_medication       26636 non-null  float64\n",
      " 4   contact_avoidance          26499 non-null  float64\n",
      " 5   bought_face_mask           26688 non-null  float64\n",
      " 6   wash_hands_frequently      26665 non-null  float64\n",
      " 7   avoid_large_gatherings     26620 non-null  float64\n",
      " 8   reduced_outside_home_cont  26625 non-null  float64\n",
      " 9   avoid_touch_face           26579 non-null  float64\n",
      " 10  dr_recc_h1n1_vacc          24547 non-null  float64\n",
      " 11  dr_recc_seasonal_vacc      24547 non-null  float64\n",
      " 12  chronic_medic_condition    25736 non-null  float64\n",
      " 13  cont_child_undr_6_mnths    25887 non-null  float64\n",
      " 14  is_health_worker           25903 non-null  float64\n",
      " 15  has_health_insur           14433 non-null  float64\n",
      " 16  is_h1n1_vacc_effective     26316 non-null  float64\n",
      " 17  is_h1n1_risky              26319 non-null  float64\n",
      " 18  sick_from_h1n1_vacc        26312 non-null  float64\n",
      " 19  is_seas_vacc_effective     26245 non-null  float64\n",
      " 20  is_seas_risky              26193 non-null  float64\n",
      " 21  sick_from_seas_vacc        26170 non-null  float64\n",
      " 22  age_bracket                26707 non-null  object \n",
      " 23  qualification              25300 non-null  object \n",
      " 24  race                       26707 non-null  object \n",
      " 25  sex                        26707 non-null  object \n",
      " 26  income_level               22284 non-null  object \n",
      " 27  marital_status             25299 non-null  object \n",
      " 28  housing_status             24665 non-null  object \n",
      " 29  employment                 25244 non-null  object \n",
      " 30  census_msa                 26707 non-null  object \n",
      " 31  no_of_adults               26458 non-null  float64\n",
      " 32  no_of_children             26458 non-null  float64\n",
      " 33  h1n1_vaccine               26707 non-null  int64  \n",
      "dtypes: float64(23), int64(2), object(9)\n",
      "memory usage: 6.9+ MB\n"
     ]
    }
   ],
   "source": [
    "vaccine.info()"
   ]
  },
  {
   "cell_type": "code",
   "execution_count": 347,
   "id": "b87f2a89",
   "metadata": {},
   "outputs": [
    {
     "data": {
      "text/plain": [
       "(26707, 34)"
      ]
     },
     "execution_count": 347,
     "metadata": {},
     "output_type": "execute_result"
    }
   ],
   "source": [
    "vaccine.shape"
   ]
  },
  {
   "cell_type": "code",
   "execution_count": 348,
   "id": "147d134c",
   "metadata": {},
   "outputs": [
    {
     "data": {
      "text/plain": [
       "float64    23\n",
       "object      9\n",
       "int64       2\n",
       "Name: count, dtype: int64"
      ]
     },
     "execution_count": 348,
     "metadata": {},
     "output_type": "execute_result"
    }
   ],
   "source": [
    "vaccine.dtypes.value_counts()"
   ]
  },
  {
   "cell_type": "code",
   "execution_count": 349,
   "id": "647fee5c",
   "metadata": {},
   "outputs": [
    {
     "data": {
      "text/plain": [
       "Index(['unique_id', 'h1n1_worry', 'h1n1_awareness', 'antiviral_medication',\n",
       "       'contact_avoidance', 'bought_face_mask', 'wash_hands_frequently',\n",
       "       'avoid_large_gatherings', 'reduced_outside_home_cont',\n",
       "       'avoid_touch_face', 'dr_recc_h1n1_vacc', 'dr_recc_seasonal_vacc',\n",
       "       'chronic_medic_condition', 'cont_child_undr_6_mnths',\n",
       "       'is_health_worker', 'has_health_insur', 'is_h1n1_vacc_effective',\n",
       "       'is_h1n1_risky', 'sick_from_h1n1_vacc', 'is_seas_vacc_effective',\n",
       "       'is_seas_risky', 'sick_from_seas_vacc', 'age_bracket', 'qualification',\n",
       "       'race', 'sex', 'income_level', 'marital_status', 'housing_status',\n",
       "       'employment', 'census_msa', 'no_of_adults', 'no_of_children',\n",
       "       'h1n1_vaccine'],\n",
       "      dtype='object')"
      ]
     },
     "execution_count": 349,
     "metadata": {},
     "output_type": "execute_result"
    }
   ],
   "source": [
    "vaccine.columns"
   ]
  },
  {
   "cell_type": "code",
   "execution_count": 350,
   "id": "57a15d77",
   "metadata": {},
   "outputs": [],
   "source": [
    "vaccine.drop(['unique_id'],inplace=True,axis=1)"
   ]
  },
  {
   "cell_type": "code",
   "execution_count": 351,
   "id": "3d09ff5c",
   "metadata": {},
   "outputs": [
    {
     "data": {
      "text/plain": [
       "h1n1_worry                      92\n",
       "h1n1_awareness                 116\n",
       "antiviral_medication            71\n",
       "contact_avoidance              208\n",
       "bought_face_mask                19\n",
       "wash_hands_frequently           42\n",
       "avoid_large_gatherings          87\n",
       "reduced_outside_home_cont       82\n",
       "avoid_touch_face               128\n",
       "dr_recc_h1n1_vacc             2160\n",
       "dr_recc_seasonal_vacc         2160\n",
       "chronic_medic_condition        971\n",
       "cont_child_undr_6_mnths        820\n",
       "is_health_worker               804\n",
       "has_health_insur             12274\n",
       "is_h1n1_vacc_effective         391\n",
       "is_h1n1_risky                  388\n",
       "sick_from_h1n1_vacc            395\n",
       "is_seas_vacc_effective         462\n",
       "is_seas_risky                  514\n",
       "sick_from_seas_vacc            537\n",
       "age_bracket                      0\n",
       "qualification                 1407\n",
       "race                             0\n",
       "sex                              0\n",
       "income_level                  4423\n",
       "marital_status                1408\n",
       "housing_status                2042\n",
       "employment                    1463\n",
       "census_msa                       0\n",
       "no_of_adults                   249\n",
       "no_of_children                 249\n",
       "h1n1_vaccine                     0\n",
       "dtype: int64"
      ]
     },
     "execution_count": 351,
     "metadata": {},
     "output_type": "execute_result"
    }
   ],
   "source": [
    "vaccine.isnull().sum()"
   ]
  },
  {
   "cell_type": "code",
   "execution_count": 352,
   "id": "722bf625",
   "metadata": {},
   "outputs": [
    {
     "data": {
      "text/plain": [
       "array([ 1.,  3.,  2.,  0., nan])"
      ]
     },
     "execution_count": 352,
     "metadata": {},
     "output_type": "execute_result"
    }
   ],
   "source": [
    "vaccine['h1n1_worry'].unique()"
   ]
  },
  {
   "cell_type": "code",
   "execution_count": 353,
   "id": "80c449ac",
   "metadata": {},
   "outputs": [
    {
     "data": {
      "image/png": "[encoded data removed]",
      "text/plain": [
       "<Figure size 640x480 with 1 Axes>"
      ]
     },
     "metadata": {},
     "output_type": "display_data"
    }
   ],
   "source": [
    "vaccine['h1n1_worry'].value_counts().plot(kind = 'bar')\n",
    "plt.xlabel('H1N1 Worry')\n",
    "plt.ylabel('Count')\n",
    "plt.show()"
   ]
  },
  {
   "cell_type": "code",
   "execution_count": 354,
   "id": "b709e38e",
   "metadata": {},
   "outputs": [
    {
     "data": {
      "text/plain": [
       "0    2.0\n",
       "Name: h1n1_worry, dtype: float64"
      ]
     },
     "metadata": {},
     "output_type": "display_data"
    },
    {
     "data": {
      "text/plain": [
       "2.0"
      ]
     },
     "metadata": {},
     "output_type": "display_data"
    }
   ],
   "source": [
    "display(vaccine['h1n1_worry'].mode(), vaccine['h1n1_worry'].median())"
   ]
  },
  {
   "cell_type": "code",
   "execution_count": 355,
   "id": "ace263dc",
   "metadata": {},
   "outputs": [],
   "source": [
    "vaccine['h1n1_worry'].fillna(vaccine['h1n1_worry'].mode()[0], inplace = True)"
   ]
  },
  {
   "cell_type": "code",
   "execution_count": 356,
   "id": "d617901a",
   "metadata": {},
   "outputs": [
    {
     "data": {
      "text/plain": [
       "array([ 0.,  2.,  1., nan])"
      ]
     },
     "execution_count": 356,
     "metadata": {},
     "output_type": "execute_result"
    }
   ],
   "source": [
    "vaccine['h1n1_awareness'].unique()"
   ]
  },
  {
   "cell_type": "code",
   "execution_count": 357,
   "id": "06d28052",
   "metadata": {},
   "outputs": [
    {
     "data": {
      "image/png": "[encoded data removed]",
      "text/plain": [
       "<Figure size 640x480 with 1 Axes>"
      ]
     },
     "metadata": {},
     "output_type": "display_data"
    }
   ],
   "source": [
    "sns.countplot(x = 'h1n1_awareness', data = vaccine, hue = 'h1n1_vaccine')\n",
    "plt.show()"
   ]
  },
  {
   "cell_type": "code",
   "execution_count": 358,
   "id": "0d9ffcfb",
   "metadata": {},
   "outputs": [
    {
     "data": {
      "text/plain": [
       "0    1.0\n",
       "Name: h1n1_awareness, dtype: float64"
      ]
     },
     "execution_count": 358,
     "metadata": {},
     "output_type": "execute_result"
    }
   ],
   "source": [
    "vaccine['h1n1_awareness'].mode()"
   ]
  },
  {
   "cell_type": "code",
   "execution_count": 359,
   "id": "06eaf43b",
   "metadata": {},
   "outputs": [],
   "source": [
    "vaccine['h1n1_awareness'].fillna(vaccine['h1n1_awareness'].mode()[0], inplace = True)"
   ]
  },
  {
   "cell_type": "code",
   "execution_count": 360,
   "id": "5eb5490d",
   "metadata": {},
   "outputs": [
    {
     "data": {
      "text/plain": [
       "array([ 0.,  1., nan])"
      ]
     },
     "execution_count": 360,
     "metadata": {},
     "output_type": "execute_result"
    }
   ],
   "source": [
    "vaccine['antiviral_medication'].unique()"
   ]
  },
  {
   "cell_type": "code",
   "execution_count": 361,
   "id": "412dd20b",
   "metadata": {},
   "outputs": [
    {
     "data": {
      "image/png": "[encoded data removed]",
      "text/plain": [
       "<Figure size 500x500 with 1 Axes>"
      ]
     },
     "metadata": {},
     "output_type": "display_data"
    }
   ],
   "source": [
    "vaccine['antiviral_medication'].value_counts().plot(kind = 'pie', autopct = '%0.2f%%', figsize = [5,5], explode = [0,0.2])\n",
    "plt.show()"
   ]
  },
  {
   "cell_type": "code",
   "execution_count": 362,
   "id": "379bbfdd",
   "metadata": {},
   "outputs": [
    {
     "data": {
      "text/plain": [
       "0    0.0\n",
       "Name: antiviral_medication, dtype: float64"
      ]
     },
     "metadata": {},
     "output_type": "display_data"
    }
   ],
   "source": [
    "display(vaccine['antiviral_medication'].mode())\n",
    "vaccine['antiviral_medication'].fillna(vaccine['antiviral_medication'].mode()[0], inplace = True)"
   ]
  },
  {
   "cell_type": "code",
   "execution_count": 363,
   "id": "f5662c0b",
   "metadata": {},
   "outputs": [
    {
     "data": {
      "text/plain": [
       "array([ 0.,  1., nan])"
      ]
     },
     "execution_count": 363,
     "metadata": {},
     "output_type": "execute_result"
    }
   ],
   "source": [
    "vaccine['contact_avoidance'].unique()"
   ]
  },
  {
   "cell_type": "code",
   "execution_count": 364,
   "id": "705e5bbc",
   "metadata": {},
   "outputs": [
    {
     "data": {
      "text/plain": [
       "contact_avoidance\n",
       "1.0    19228\n",
       "0.0     7271\n",
       "Name: count, dtype: int64"
      ]
     },
     "execution_count": 364,
     "metadata": {},
     "output_type": "execute_result"
    }
   ],
   "source": [
    "vaccine['contact_avoidance'].value_counts()"
   ]
  },
  {
   "cell_type": "code",
   "execution_count": 365,
   "id": "8d20cd75",
   "metadata": {},
   "outputs": [
    {
     "data": {
      "image/png": "[encoded data removed]",
      "text/plain": [
       "<Figure size 640x480 with 1 Axes>"
      ]
     },
     "metadata": {},
     "output_type": "display_data"
    }
   ],
   "source": [
    "sns.countplot(y = 'contact_avoidance', data = vaccine, color = 'green')\n",
    "plt.show()"
   ]
  },
  {
   "cell_type": "code",
   "execution_count": 366,
   "id": "a69dd1a9",
   "metadata": {},
   "outputs": [],
   "source": [
    "vaccine['contact_avoidance'].fillna(vaccine['contact_avoidance'].mode()[0], inplace = True)"
   ]
  },
  {
   "cell_type": "code",
   "execution_count": 367,
   "id": "c7b9c300",
   "metadata": {},
   "outputs": [
    {
     "data": {
      "text/plain": [
       "array([ 0.,  1., nan])"
      ]
     },
     "execution_count": 367,
     "metadata": {},
     "output_type": "execute_result"
    }
   ],
   "source": [
    "vaccine['bought_face_mask'].unique()"
   ]
  },
  {
   "cell_type": "code",
   "execution_count": 368,
   "id": "3156f36b",
   "metadata": {},
   "outputs": [
    {
     "data": {
      "image/png": "[encoded data removed]",
      "text/plain": [
       "<Figure size 640x480 with 1 Axes>"
      ]
     },
     "metadata": {},
     "output_type": "display_data"
    }
   ],
   "source": [
    "vaccine['bought_face_mask'].value_counts().plot(kind = 'bar', color = 'orange')\n",
    "plt.xlabel('bought_face_mask')\n",
    "plt.ylabel('count')\n",
    "plt.show()"
   ]
  },
  {
   "cell_type": "code",
   "execution_count": 369,
   "id": "968c1930",
   "metadata": {},
   "outputs": [],
   "source": [
    "vaccine['bought_face_mask'].fillna(vaccine['bought_face_mask'].mode()[0], inplace = True)"
   ]
  },
  {
   "cell_type": "code",
   "execution_count": 370,
   "id": "514c0064",
   "metadata": {},
   "outputs": [
    {
     "data": {
      "text/plain": [
       "array([ 0.,  1., nan])"
      ]
     },
     "execution_count": 370,
     "metadata": {},
     "output_type": "execute_result"
    }
   ],
   "source": [
    "vaccine['wash_hands_frequently'].unique()"
   ]
  },
  {
   "cell_type": "code",
   "execution_count": 371,
   "id": "cd06de74",
   "metadata": {},
   "outputs": [
    {
     "data": {
      "image/png": "[encoded data removed]",
      "text/plain": [
       "<Figure size 640x480 with 1 Axes>"
      ]
     },
     "metadata": {},
     "output_type": "display_data"
    }
   ],
   "source": [
    "sns.countplot(x = 'wash_hands_frequently', data = vaccine)\n",
    "plt.show()"
   ]
  },
  {
   "cell_type": "code",
   "execution_count": 372,
   "id": "71d7dc93",
   "metadata": {},
   "outputs": [],
   "source": [
    "vaccine['wash_hands_frequently'].fillna(vaccine['wash_hands_frequently'].mode()[0], inplace = True)"
   ]
  },
  {
   "cell_type": "code",
   "execution_count": 373,
   "id": "0d165dad",
   "metadata": {},
   "outputs": [
    {
     "data": {
      "text/plain": [
       "array([ 0.,  1., nan])"
      ]
     },
     "execution_count": 373,
     "metadata": {},
     "output_type": "execute_result"
    }
   ],
   "source": [
    "vaccine['avoid_large_gatherings'].unique()"
   ]
  },
  {
   "cell_type": "code",
   "execution_count": 374,
   "id": "de9185d9",
   "metadata": {},
   "outputs": [
    {
     "data": {
      "text/plain": [
       "avoid_large_gatherings\n",
       "0.0    17073\n",
       "1.0     9547\n",
       "Name: count, dtype: int64"
      ]
     },
     "execution_count": 374,
     "metadata": {},
     "output_type": "execute_result"
    }
   ],
   "source": [
    "vaccine['avoid_large_gatherings'].value_counts()"
   ]
  },
  {
   "cell_type": "code",
   "execution_count": 375,
   "id": "e4c70daf",
   "metadata": {},
   "outputs": [],
   "source": [
    "vaccine['avoid_large_gatherings'].fillna(vaccine['avoid_large_gatherings'].mode()[0], inplace = True)"
   ]
  },
  {
   "cell_type": "code",
   "execution_count": 376,
   "id": "1f6e6da2",
   "metadata": {},
   "outputs": [
    {
     "data": {
      "text/plain": [
       "array([ 1.,  0., nan])"
      ]
     },
     "execution_count": 376,
     "metadata": {},
     "output_type": "execute_result"
    }
   ],
   "source": [
    "vaccine['reduced_outside_home_cont'].unique()\n"
   ]
  },
  {
   "cell_type": "code",
   "execution_count": 377,
   "id": "95f4c91b",
   "metadata": {},
   "outputs": [
    {
     "data": {
      "text/plain": [
       "reduced_outside_home_cont\n",
       "0.0    17644\n",
       "1.0     8981\n",
       "Name: count, dtype: int64"
      ]
     },
     "execution_count": 377,
     "metadata": {},
     "output_type": "execute_result"
    }
   ],
   "source": [
    "vaccine['reduced_outside_home_cont'].value_counts()"
   ]
  },
  {
   "cell_type": "code",
   "execution_count": 378,
   "id": "eee90df8",
   "metadata": {},
   "outputs": [],
   "source": [
    "vaccine['reduced_outside_home_cont'].fillna(vaccine['reduced_outside_home_cont'].mode()[0], inplace = True)"
   ]
  },
  {
   "cell_type": "code",
   "execution_count": 379,
   "id": "50a68e93",
   "metadata": {},
   "outputs": [
    {
     "data": {
      "text/plain": [
       "array([ 1.,  0., nan])"
      ]
     },
     "execution_count": 379,
     "metadata": {},
     "output_type": "execute_result"
    }
   ],
   "source": [
    "vaccine['avoid_touch_face'].unique()\n"
   ]
  },
  {
   "cell_type": "code",
   "execution_count": 380,
   "id": "c7464ae6",
   "metadata": {},
   "outputs": [
    {
     "data": {
      "text/plain": [
       "avoid_touch_face\n",
       "1.0    18001\n",
       "0.0     8578\n",
       "Name: count, dtype: int64"
      ]
     },
     "execution_count": 380,
     "metadata": {},
     "output_type": "execute_result"
    }
   ],
   "source": [
    "vaccine['avoid_touch_face'].value_counts()"
   ]
  },
  {
   "cell_type": "code",
   "execution_count": 381,
   "id": "493b44b1",
   "metadata": {},
   "outputs": [],
   "source": [
    "vaccine['avoid_touch_face'].fillna(vaccine['avoid_touch_face'].mode()[0], inplace = True)"
   ]
  },
  {
   "cell_type": "code",
   "execution_count": 382,
   "id": "cd12615c",
   "metadata": {},
   "outputs": [
    {
     "data": {
      "text/plain": [
       "array([ 0., nan,  1.])"
      ]
     },
     "metadata": {},
     "output_type": "display_data"
    },
    {
     "data": {
      "text/plain": [
       "array([ 0., nan,  1.])"
      ]
     },
     "metadata": {},
     "output_type": "display_data"
    }
   ],
   "source": [
    "display(vaccine['dr_recc_h1n1_vacc'].unique(), vaccine['dr_recc_seasonal_vacc'].unique())"
   ]
  },
  {
   "cell_type": "code",
   "execution_count": 383,
   "id": "10a0f7f1",
   "metadata": {},
   "outputs": [
    {
     "data": {
      "image/png": "[encoded data removed]",
      "text/plain": [
       "<Figure size 700x600 with 2 Axes>"
      ]
     },
     "metadata": {},
     "output_type": "display_data"
    }
   ],
   "source": [
    "fig, ax = plt.subplots(1,2, figsize = [7,6], sharey = True )\n",
    "sns.countplot(x = 'dr_recc_h1n1_vacc', data = vaccine, color = 'maroon', ax=ax[0])\n",
    "sns.countplot(x = 'dr_recc_seasonal_vacc', data = vaccine, color = 'navy', ax=ax[1])\n",
    "plt.show()"
   ]
  },
  {
   "cell_type": "code",
   "execution_count": 384,
   "id": "1c84bdaa",
   "metadata": {},
   "outputs": [],
   "source": [
    "vaccine['dr_recc_h1n1_vacc'].fillna(vaccine['dr_recc_h1n1_vacc'].mode()[0], inplace = True)\n",
    "vaccine['dr_recc_seasonal_vacc'].fillna(vaccine['dr_recc_seasonal_vacc'].mode()[0], inplace = True)"
   ]
  },
  {
   "cell_type": "code",
   "execution_count": 385,
   "id": "3170901b",
   "metadata": {},
   "outputs": [
    {
     "data": {
      "text/plain": [
       "chronic_medic_condition\n",
       "0.0    18446\n",
       "1.0     7290\n",
       "Name: count, dtype: int64"
      ]
     },
     "execution_count": 385,
     "metadata": {},
     "output_type": "execute_result"
    }
   ],
   "source": [
    "vaccine['chronic_medic_condition'].value_counts()"
   ]
  },
  {
   "cell_type": "code",
   "execution_count": 386,
   "id": "e71e3be5",
   "metadata": {},
   "outputs": [],
   "source": [
    "vaccine['chronic_medic_condition'].fillna(vaccine['chronic_medic_condition'].mode()[0], inplace = True)"
   ]
  },
  {
   "cell_type": "code",
   "execution_count": 387,
   "id": "9d7ee3cb",
   "metadata": {},
   "outputs": [
    {
     "data": {
      "text/plain": [
       "<Axes: ylabel='cont_child_undr_6_mnths'>"
      ]
     },
     "execution_count": 387,
     "metadata": {},
     "output_type": "execute_result"
    },
    {
     "data": {
      "image/png": "[encoded data removed]",
      "text/plain": [
       "<Figure size 640x480 with 1 Axes>"
      ]
     },
     "metadata": {},
     "output_type": "display_data"
    }
   ],
   "source": [
    "vaccine['cont_child_undr_6_mnths'].value_counts().plot(kind = 'barh', cmap = 'rainbow', edgecolor = 'b')"
   ]
  },
  {
   "cell_type": "code",
   "execution_count": 388,
   "id": "8062c1b3",
   "metadata": {},
   "outputs": [],
   "source": [
    "vaccine['cont_child_undr_6_mnths'].fillna(vaccine['cont_child_undr_6_mnths'].mode()[0], inplace = True)"
   ]
  },
  {
   "cell_type": "code",
   "execution_count": 389,
   "id": "56de9a14",
   "metadata": {},
   "outputs": [
    {
     "data": {
      "text/plain": [
       "is_health_worker\n",
       "0.0    23004\n",
       "1.0     2899\n",
       "Name: count, dtype: int64"
      ]
     },
     "execution_count": 389,
     "metadata": {},
     "output_type": "execute_result"
    }
   ],
   "source": [
    "vaccine['is_health_worker'].value_counts()"
   ]
  },
  {
   "cell_type": "code",
   "execution_count": 390,
   "id": "a9245d90",
   "metadata": {},
   "outputs": [],
   "source": [
    "vaccine['is_health_worker'].fillna(vaccine['is_health_worker'].mode()[0], inplace = True)"
   ]
  },
  {
   "cell_type": "code",
   "execution_count": 391,
   "id": "650c20ca",
   "metadata": {},
   "outputs": [
    {
     "data": {
      "text/plain": [
       "array([ 1., nan,  0.])"
      ]
     },
     "execution_count": 391,
     "metadata": {},
     "output_type": "execute_result"
    }
   ],
   "source": [
    "vaccine['has_health_insur'].unique()"
   ]
  },
  {
   "cell_type": "code",
   "execution_count": 392,
   "id": "11c54cb5",
   "metadata": {},
   "outputs": [
    {
     "data": {
      "text/plain": [
       "<Axes: ylabel='has_health_insur'>"
      ]
     },
     "execution_count": 392,
     "metadata": {},
     "output_type": "execute_result"
    },
    {
     "data": {
      "image/png": "[encoded data removed]",
      "text/plain": [
       "<Figure size 640x480 with 1 Axes>"
      ]
     },
     "metadata": {},
     "output_type": "display_data"
    }
   ],
   "source": [
    "vaccine['has_health_insur'].value_counts().plot(kind = 'barh')"
   ]
  },
  {
   "cell_type": "code",
   "execution_count": 393,
   "id": "1b9f9106",
   "metadata": {},
   "outputs": [],
   "source": [
    "vaccine['has_health_insur'].fillna(2.0, inplace = True)"
   ]
  },
  {
   "cell_type": "code",
   "execution_count": 394,
   "id": "e40aff87",
   "metadata": {},
   "outputs": [
    {
     "data": {
      "text/plain": [
       "<Axes: ylabel='has_health_insur'>"
      ]
     },
     "execution_count": 394,
     "metadata": {},
     "output_type": "execute_result"
    },
    {
     "data": {
      "image/png": "[encoded data removed]",
      "text/plain": [
       "<Figure size 640x480 with 1 Axes>"
      ]
     },
     "metadata": {},
     "output_type": "display_data"
    }
   ],
   "source": [
    "vaccine['has_health_insur'].value_counts().plot(kind = 'barh', color = 'b', edgecolor = 'r')"
   ]
  },
  {
   "cell_type": "code",
   "execution_count": 395,
   "id": "3dfc48df",
   "metadata": {},
   "outputs": [
    {
     "data": {
      "text/plain": [
       "array([ 3.,  5.,  4.,  2.,  1., nan])"
      ]
     },
     "metadata": {},
     "output_type": "display_data"
    },
    {
     "data": {
      "text/plain": [
       "array([ 2.,  4.,  5.,  3.,  1., nan])"
      ]
     },
     "metadata": {},
     "output_type": "display_data"
    }
   ],
   "source": [
    "display(vaccine['is_h1n1_vacc_effective'].unique(), vaccine['is_seas_vacc_effective'].unique())"
   ]
  },
  {
   "cell_type": "code",
   "execution_count": 396,
   "id": "05dba3a6",
   "metadata": {},
   "outputs": [
    {
     "data": {
      "image/png": "[encoded data removed]",
      "text/plain": [
       "<Figure size 1000x1000 with 2 Axes>"
      ]
     },
     "metadata": {},
     "output_type": "display_data"
    }
   ],
   "source": [
    "colors = ['#CAFF70', '#FF1493', '#00BFFF', '#FFD700', '#836FFF']\n",
    "colors1 = ['#FF7F24', '#FFB90F', '#A2CD5A', '#BF3EFF', '#EEAEEE']\n",
    "fig, (ax1,ax2) = plt.subplots(1,2, figsize = [10,10])\n",
    "\n",
    "ax1.pie(vaccine['is_h1n1_vacc_effective'].value_counts(), labels = vaccine['is_h1n1_vacc_effective'].value_counts().index , \n",
    "        autopct = '%0.2f%%', explode= [0.1,0,0,0,0], colors = colors, shadow = True)\n",
    "\n",
    "ax2.pie(vaccine['is_seas_vacc_effective'].value_counts(), labels = vaccine['is_seas_vacc_effective'].value_counts().index , \n",
    "        autopct = '%0.2f%%', explode= [0.1,0,0,0,0], colors = colors1, shadow = True)\n",
    "\n",
    "ax1.set_title('is_h1n1_vacc_effective')\n",
    "ax2.set_title('is_seas_vacc_effective')\n",
    "\n",
    "plt.show()"
   ]
  },
  {
   "cell_type": "code",
   "execution_count": 397,
   "id": "03c7d20d",
   "metadata": {},
   "outputs": [],
   "source": [
    "vaccine['is_h1n1_vacc_effective'].fillna(vaccine['is_h1n1_vacc_effective'].mode()[0], inplace = True)\n",
    "vaccine['is_seas_vacc_effective'].fillna(vaccine['is_seas_vacc_effective'].mode()[0], inplace = True)"
   ]
  },
  {
   "cell_type": "code",
   "execution_count": 398,
   "id": "9df0d684",
   "metadata": {},
   "outputs": [
    {
     "data": {
      "text/plain": [
       "array([ 1.,  4.,  3.,  2.,  5., nan])"
      ]
     },
     "metadata": {},
     "output_type": "display_data"
    },
    {
     "data": {
      "text/plain": [
       "array([ 1.,  2.,  4.,  3.,  5., nan])"
      ]
     },
     "metadata": {},
     "output_type": "display_data"
    }
   ],
   "source": [
    "display(vaccine['is_h1n1_risky'].unique(), vaccine['is_seas_risky'].unique())"
   ]
  },
  {
   "cell_type": "code",
   "execution_count": 399,
   "id": "4ad2da58",
   "metadata": {},
   "outputs": [
    {
     "data": {
      "image/png": "[encoded data removed]",
      "text/plain": [
       "<Figure size 1000x1000 with 2 Axes>"
      ]
     },
     "metadata": {},
     "output_type": "display_data"
    }
   ],
   "source": [
    "fig, ax = plt.subplots(1, 2, figsize = [10,10])\n",
    "vaccine['is_h1n1_risky'].value_counts().plot(kind = 'pie',autopct = '%0.2f%%',  explode = [0.05,0,0,0,0], cmap = 'RdYlGn', ax = ax[0])\n",
    "vaccine['is_seas_risky'].value_counts().plot(kind = 'pie', autopct = '%0.2f%%', explode = [0.05,0,0,0,0], cmap = 'Paired', ax = ax[1])\n",
    "plt.show()\n"
   ]
  },
  {
   "cell_type": "code",
   "execution_count": 400,
   "id": "7fe58071",
   "metadata": {},
   "outputs": [],
   "source": [
    "vaccine['is_h1n1_risky'].fillna(vaccine['is_h1n1_risky'].mode()[0], inplace = True)\n",
    "vaccine['is_seas_risky'].fillna(vaccine['is_seas_risky'].mode()[0], inplace = True)"
   ]
  },
  {
   "cell_type": "code",
   "execution_count": 401,
   "id": "30e59135",
   "metadata": {},
   "outputs": [
    {
     "data": {
      "text/plain": [
       "array([ 2.,  4.,  1.,  5.,  3., nan])"
      ]
     },
     "metadata": {},
     "output_type": "display_data"
    },
    {
     "data": {
      "text/plain": [
       "array([ 2.,  4.,  1.,  5., nan,  3.])"
      ]
     },
     "metadata": {},
     "output_type": "display_data"
    }
   ],
   "source": [
    "display(vaccine['sick_from_h1n1_vacc'].unique(), vaccine['sick_from_seas_vacc'].unique())"
   ]
  },
  {
   "cell_type": "code",
   "execution_count": 402,
   "id": "8d6d10ec",
   "metadata": {},
   "outputs": [
    {
     "data": {
      "image/png": "[encoded data removed]",
      "text/plain": [
       "<Figure size 1000x1000 with 2 Axes>"
      ]
     },
     "metadata": {},
     "output_type": "display_data"
    }
   ],
   "source": [
    "fig, ax = plt.subplots(1,2, figsize = [10,10])\n",
    "vaccine['sick_from_h1n1_vacc'].value_counts().plot(kind = 'pie', autopct = '%0.2f%%', explode = [0.05,0,0,0,0], cmap = 'Spectral', ax = ax[0])\n",
    "vaccine['sick_from_seas_vacc'].value_counts().plot(kind = 'pie', autopct = '%0.2f%%', explode = [0.05,0,0,0,0], cmap = 'twilight', ax = ax[1])\n",
    "plt.show()"
   ]
  },
  {
   "cell_type": "code",
   "execution_count": 403,
   "id": "f596f22c",
   "metadata": {},
   "outputs": [],
   "source": [
    "vaccine['sick_from_h1n1_vacc'].fillna(vaccine['sick_from_h1n1_vacc'].mode()[0], inplace = True)\n",
    "vaccine['sick_from_seas_vacc'].fillna(vaccine['sick_from_seas_vacc'].mode()[0], inplace = True)"
   ]
  },
  {
   "cell_type": "code",
   "execution_count": 404,
   "id": "c604fc32",
   "metadata": {},
   "outputs": [
    {
     "data": {
      "image/png": "[encoded data removed]",
      "text/plain": [
       "<Figure size 500x500 with 1 Axes>"
      ]
     },
     "metadata": {},
     "output_type": "display_data"
    }
   ],
   "source": [
    "vaccine.groupby(['dr_recc_seasonal_vacc']).agg({'is_seas_vacc_effective' : ['count'],\n",
    "                                      'is_seas_risky' :['count'],\n",
    "                                      'sick_from_seas_vacc' : ['count']}).plot(kind = 'bar', cmap = 'tab20b', figsize = [5,5])\n",
    "plt.ylabel('count')\n",
    "plt.show()"
   ]
  },
  {
   "cell_type": "code",
   "execution_count": 405,
   "id": "52abc753",
   "metadata": {},
   "outputs": [
    {
     "data": {
      "image/png": "[encoded data removed]",
      "text/plain": [
       "<Figure size 500x500 with 1 Axes>"
      ]
     },
     "metadata": {},
     "output_type": "display_data"
    }
   ],
   "source": [
    "vaccine.groupby(['dr_recc_h1n1_vacc']).agg({'is_h1n1_vacc_effective' : ['count'],\n",
    "                                      'is_h1n1_risky' :['count'],\n",
    "                                      'sick_from_h1n1_vacc' : ['count']}).plot(kind = 'bar', cmap = 'tab20c', figsize = [5,5])\n",
    "plt.ylabel('count')\n",
    "plt.show()"
   ]
  },
  {
   "cell_type": "code",
   "execution_count": 406,
   "id": "fadb0219",
   "metadata": {},
   "outputs": [
    {
     "data": {
      "text/plain": [
       "array(['< 12 Years', '12 Years', 'College Graduate', 'Some College', nan],\n",
       "      dtype=object)"
      ]
     },
     "execution_count": 406,
     "metadata": {},
     "output_type": "execute_result"
    }
   ],
   "source": [
    "vaccine['qualification'].unique()"
   ]
  },
  {
   "cell_type": "code",
   "execution_count": 407,
   "id": "cd9cc08e",
   "metadata": {},
   "outputs": [
    {
     "data": {
      "text/plain": [
       "qualification\n",
       "College Graduate    10097\n",
       "Some College         7043\n",
       "12 Years             5797\n",
       "< 12 Years           2363\n",
       "Name: count, dtype: int64"
      ]
     },
     "execution_count": 407,
     "metadata": {},
     "output_type": "execute_result"
    }
   ],
   "source": [
    "vaccine['qualification'].value_counts()"
   ]
  },
  {
   "cell_type": "code",
   "execution_count": 408,
   "id": "a91f9ebe",
   "metadata": {},
   "outputs": [],
   "source": [
    "vaccine['qualification'].fillna(vaccine['qualification'].mode()[0], inplace = True)"
   ]
  },
  {
   "cell_type": "code",
   "execution_count": 409,
   "id": "3bda19e8",
   "metadata": {},
   "outputs": [
    {
     "data": {
      "text/plain": [
       "<Axes: ylabel='sex'>"
      ]
     },
     "execution_count": 409,
     "metadata": {},
     "output_type": "execute_result"
    },
    {
     "data": {
      "image/png": "[encoded data removed]",
      "text/plain": [
       "<Figure size 640x480 with 1 Axes>"
      ]
     },
     "metadata": {},
     "output_type": "display_data"
    }
   ],
   "source": [
    "vaccine['sex'].value_counts().plot(kind = 'barh', color = 'c', edgecolor = 'r')"
   ]
  },
  {
   "cell_type": "code",
   "execution_count": 410,
   "id": "9f167bb8",
   "metadata": {},
   "outputs": [
    {
     "data": {
      "text/plain": [
       "array(['Below Poverty', '<= $75,000, Above Poverty', '> $75,000', nan],\n",
       "      dtype=object)"
      ]
     },
     "execution_count": 410,
     "metadata": {},
     "output_type": "execute_result"
    }
   ],
   "source": [
    "vaccine['income_level'].unique()"
   ]
  },
  {
   "cell_type": "code",
   "execution_count": 411,
   "id": "34b659c0",
   "metadata": {},
   "outputs": [
    {
     "data": {
      "text/plain": [
       "<Axes: ylabel='count'>"
      ]
     },
     "execution_count": 411,
     "metadata": {},
     "output_type": "execute_result"
    },
    {
     "data": {
      "image/png": "[encoded data removed]",
      "text/plain": [
       "<Figure size 500x500 with 1 Axes>"
      ]
     },
     "metadata": {},
     "output_type": "display_data"
    }
   ],
   "source": [
    "vaccine['income_level'].value_counts().plot(kind = 'pie', autopct = '%0.2f%%', cmap = 'magma',\n",
    "                                            explode = [0,0.1,0], figsize = [5,5], shadow = True)"
   ]
  },
  {
   "cell_type": "code",
   "execution_count": 412,
   "id": "ece1fdfb",
   "metadata": {},
   "outputs": [],
   "source": [
    "vaccine['income_level'].fillna('Unknown', inplace = True)"
   ]
  },
  {
   "cell_type": "code",
   "execution_count": 413,
   "id": "d4a34aa7",
   "metadata": {},
   "outputs": [
    {
     "data": {
      "text/plain": [
       "array(['Not Married', 'Married', nan], dtype=object)"
      ]
     },
     "execution_count": 413,
     "metadata": {},
     "output_type": "execute_result"
    }
   ],
   "source": [
    "vaccine['marital_status'].unique()"
   ]
  },
  {
   "cell_type": "code",
   "execution_count": 414,
   "id": "45e4bd9b",
   "metadata": {},
   "outputs": [
    {
     "data": {
      "text/plain": [
       "marital_status\n",
       "Married        13555\n",
       "Not Married    11744\n",
       "Name: count, dtype: int64"
      ]
     },
     "execution_count": 414,
     "metadata": {},
     "output_type": "execute_result"
    }
   ],
   "source": [
    "vaccine['marital_status'].value_counts()"
   ]
  },
  {
   "cell_type": "code",
   "execution_count": 415,
   "id": "7b7d9baa",
   "metadata": {},
   "outputs": [],
   "source": [
    "vaccine['marital_status'].fillna(vaccine['marital_status'].mode()[0], inplace = True)"
   ]
  },
  {
   "cell_type": "code",
   "execution_count": 416,
   "id": "b9b95ee2",
   "metadata": {},
   "outputs": [
    {
     "data": {
      "text/plain": [
       "array(['Own', 'Rent', nan], dtype=object)"
      ]
     },
     "execution_count": 416,
     "metadata": {},
     "output_type": "execute_result"
    }
   ],
   "source": [
    "vaccine['housing_status'].unique()"
   ]
  },
  {
   "cell_type": "code",
   "execution_count": 417,
   "id": "36363fad",
   "metadata": {},
   "outputs": [
    {
     "data": {
      "text/plain": [
       "<Axes: xlabel='housing_status'>"
      ]
     },
     "execution_count": 417,
     "metadata": {},
     "output_type": "execute_result"
    },
    {
     "data": {
      "image/png": "[encoded data removed]",
      "text/plain": [
       "<Figure size 640x480 with 1 Axes>"
      ]
     },
     "metadata": {},
     "output_type": "display_data"
    }
   ],
   "source": [
    "vaccine['housing_status'].value_counts().plot(kind = 'bar', color = 'b', edgecolor = 'r')"
   ]
  },
  {
   "cell_type": "code",
   "execution_count": 418,
   "id": "47ee6732",
   "metadata": {},
   "outputs": [
    {
     "data": {
      "text/plain": [
       "array(['Not in Labor Force', 'Employed', 'Unemployed', nan], dtype=object)"
      ]
     },
     "execution_count": 418,
     "metadata": {},
     "output_type": "execute_result"
    }
   ],
   "source": [
    "vaccine['housing_status'].fillna(vaccine['housing_status'].mode()[0], inplace = True)\n",
    "vaccine['employment'].unique()"
   ]
  },
  {
   "cell_type": "code",
   "execution_count": 419,
   "id": "6da00d40",
   "metadata": {},
   "outputs": [
    {
     "data": {
      "text/plain": [
       "<Axes: ylabel='count'>"
      ]
     },
     "execution_count": 419,
     "metadata": {},
     "output_type": "execute_result"
    },
    {
     "data": {
      "image/png": "[encoded data removed]",
      "text/plain": [
       "<Figure size 500x500 with 1 Axes>"
      ]
     },
     "metadata": {},
     "output_type": "display_data"
    }
   ],
   "source": [
    "vaccine['employment'].value_counts().plot(kind = 'pie', autopct = '%0.2f%%', figsize = [5,5])"
   ]
  },
  {
   "cell_type": "code",
   "execution_count": 420,
   "id": "5c05c284",
   "metadata": {},
   "outputs": [
    {
     "data": {
      "text/plain": [
       "array([ 0.,  2.,  1.,  3., nan])"
      ]
     },
     "metadata": {},
     "output_type": "display_data"
    },
    {
     "data": {
      "text/plain": [
       "array([ 0.,  3.,  2.,  1., nan])"
      ]
     },
     "metadata": {},
     "output_type": "display_data"
    }
   ],
   "source": [
    "vaccine['employment'].fillna(vaccine['employment'].mode()[0], inplace = True)\n",
    "display(vaccine['no_of_adults'].unique(), vaccine['no_of_children'].unique())"
   ]
  },
  {
   "cell_type": "code",
   "execution_count": 421,
   "id": "208db238",
   "metadata": {},
   "outputs": [
    {
     "data": {
      "image/png": "[encoded data removed]",
      "text/plain": [
       "<Figure size 700x500 with 2 Axes>"
      ]
     },
     "metadata": {},
     "output_type": "display_data"
    }
   ],
   "source": [
    "fig, ax = plt.subplots(1,2, figsize = [7,5], sharey = True)\n",
    "sns.countplot( x = 'no_of_adults', data = vaccine, ax = ax[0])\n",
    "sns.countplot( x = 'no_of_children', data = vaccine, ax = ax[1])\n",
    "plt.show()"
   ]
  },
  {
   "cell_type": "code",
   "execution_count": 422,
   "id": "fbd95b17",
   "metadata": {},
   "outputs": [],
   "source": [
    "vaccine['no_of_adults'].fillna(vaccine['no_of_adults'].mode()[0], inplace = True)\n",
    "vaccine['no_of_children'].fillna(vaccine['no_of_children'].mode()[0], inplace = True)"
   ]
  },
  {
   "cell_type": "code",
   "execution_count": 423,
   "id": "6416e991",
   "metadata": {},
   "outputs": [
    {
     "data": {
      "text/plain": [
       "age_bracket\n",
       "65+ Years        6843\n",
       "55 - 64 Years    5563\n",
       "45 - 54 Years    5238\n",
       "18 - 34 Years    5215\n",
       "35 - 44 Years    3848\n",
       "Name: count, dtype: int64"
      ]
     },
     "execution_count": 423,
     "metadata": {},
     "output_type": "execute_result"
    }
   ],
   "source": [
    "vaccine['age_bracket'].value_counts()"
   ]
  },
  {
   "cell_type": "code",
   "execution_count": 424,
   "id": "ff14b52f",
   "metadata": {},
   "outputs": [
    {
     "data": {
      "text/plain": [
       "h1n1_worry                   0\n",
       "h1n1_awareness               0\n",
       "antiviral_medication         0\n",
       "contact_avoidance            0\n",
       "bought_face_mask             0\n",
       "wash_hands_frequently        0\n",
       "avoid_large_gatherings       0\n",
       "reduced_outside_home_cont    0\n",
       "avoid_touch_face             0\n",
       "dr_recc_h1n1_vacc            0\n",
       "dr_recc_seasonal_vacc        0\n",
       "chronic_medic_condition      0\n",
       "cont_child_undr_6_mnths      0\n",
       "is_health_worker             0\n",
       "has_health_insur             0\n",
       "is_h1n1_vacc_effective       0\n",
       "is_h1n1_risky                0\n",
       "sick_from_h1n1_vacc          0\n",
       "is_seas_vacc_effective       0\n",
       "is_seas_risky                0\n",
       "sick_from_seas_vacc          0\n",
       "age_bracket                  0\n",
       "qualification                0\n",
       "race                         0\n",
       "sex                          0\n",
       "income_level                 0\n",
       "marital_status               0\n",
       "housing_status               0\n",
       "employment                   0\n",
       "census_msa                   0\n",
       "no_of_adults                 0\n",
       "no_of_children               0\n",
       "h1n1_vaccine                 0\n",
       "dtype: int64"
      ]
     },
     "execution_count": 424,
     "metadata": {},
     "output_type": "execute_result"
    }
   ],
   "source": [
    "vaccine.isnull().sum()"
   ]
  },
  {
   "cell_type": "code",
   "execution_count": 433,
   "id": "128f25a1",
   "metadata": {},
   "outputs": [
    {
     "data": {
      "text/plain": [
       "object    33\n",
       "Name: count, dtype: int64"
      ]
     },
     "execution_count": 433,
     "metadata": {},
     "output_type": "execute_result"
    }
   ],
   "source": [
    "vaccine1 = vaccine.astype({'h1n1_worry' : str, 'h1n1_awareness': str, 'antiviral_medication': str,\n",
    "       'contact_avoidance': str, 'bought_face_mask': str, 'wash_hands_frequently': str,\n",
    "       'avoid_large_gatherings': str, 'reduced_outside_home_cont': str,\n",
    "       'avoid_touch_face': str, 'dr_recc_h1n1_vacc': str, 'dr_recc_seasonal_vacc': str,\n",
    "       'chronic_medic_condition': str, 'cont_child_undr_6_mnths': str,\n",
    "       'is_health_worker': str, 'has_health_insur': str, 'is_h1n1_vacc_effective': str,\n",
    "       'is_h1n1_risky': str, 'sick_from_h1n1_vacc': str, 'is_seas_vacc_effective': str, 'age_bracket' : str,\n",
    "       'is_seas_risky': str, 'sick_from_seas_vacc': str, 'no_of_adults' : str, 'no_of_children' : str,\n",
    "        'h1n1_vaccine' : str})\n",
    "vaccine1.dtypes.value_counts()"
   ]
  },
  {
   "cell_type": "code",
   "execution_count": 434,
   "id": "12e6e04a",
   "metadata": {},
   "outputs": [],
   "source": [
    "vaccine_dummies = pd.get_dummies(vaccine1, drop_first= True )"
   ]
  },
  {
   "cell_type": "code",
   "execution_count": 435,
   "id": "43522357",
   "metadata": {},
   "outputs": [
    {
     "data": {
      "text/plain": [
       "(26707, 70)"
      ]
     },
     "execution_count": 435,
     "metadata": {},
     "output_type": "execute_result"
    }
   ],
   "source": [
    "vaccine_dummies.shape"
   ]
  },
  {
   "cell_type": "code",
   "execution_count": 458,
   "id": "438dc1d7",
   "metadata": {},
   "outputs": [
    {
     "data": {
      "text/plain": [
       "h1n1_vaccine_1\n",
       "False    0.787546\n",
       "True     0.212454\n",
       "Name: proportion, dtype: float64"
      ]
     },
     "execution_count": 458,
     "metadata": {},
     "output_type": "execute_result"
    }
   ],
   "source": [
    "vaccine_dummies['h1n1_vaccine_1'].value_counts(normalize = True)"
   ]
  },
  {
   "cell_type": "code",
   "execution_count": 460,
   "id": "2e61cb9d",
   "metadata": {},
   "outputs": [],
   "source": [
    "y=vaccine_dummies['h1n1_vaccine_1']\n",
    "x=vaccine_dummies.drop(['h1n1_vaccine_1'], axis=1)"
   ]
  },
  {
   "cell_type": "code",
   "execution_count": 461,
   "id": "147612b1",
   "metadata": {},
   "outputs": [],
   "source": [
    "from statsmodels.stats.outliers_influence import variance_inflation_factor\n",
    "vif_data = pd.DataFrame()\n",
    "vif_data['Var'] = x.columns\n",
    "vif_data['VIF'] = [variance_inflation_factor(x.values, i) for i in range(len(x.columns))]"
   ]
  },
  {
   "cell_type": "code",
   "execution_count": 462,
   "id": "115bb6bd",
   "metadata": {},
   "outputs": [
    {
     "data": {
      "text/html": [
       "<div>\n",
       "<style scoped>\n",
       "    .dataframe tbody tr th:only-of-type {\n",
       "        vertical-align: middle;\n",
       "    }\n",
       "\n",
       "    .dataframe tbody tr th {\n",
       "        vertical-align: top;\n",
       "    }\n",
       "\n",
       "    .dataframe thead th {\n",
       "        text-align: right;\n",
       "    }\n",
       "</style>\n",
       "<table border=\"1\" class=\"dataframe\">\n",
       "  <thead>\n",
       "    <tr style=\"text-align: right;\">\n",
       "      <th></th>\n",
       "      <th>Var</th>\n",
       "      <th>VIF</th>\n",
       "    </tr>\n",
       "  </thead>\n",
       "  <tbody>\n",
       "    <tr>\n",
       "      <th>40</th>\n",
       "      <td>sick_from_seas_vacc_3.0</td>\n",
       "      <td>0.011571</td>\n",
       "    </tr>\n",
       "    <tr>\n",
       "      <th>28</th>\n",
       "      <td>sick_from_h1n1_vacc_3.0</td>\n",
       "      <td>0.007397</td>\n",
       "    </tr>\n",
       "    <tr>\n",
       "      <th>36</th>\n",
       "      <td>is_seas_risky_3.0</td>\n",
       "      <td>0.002132</td>\n",
       "    </tr>\n",
       "    <tr>\n",
       "      <th>32</th>\n",
       "      <td>is_seas_vacc_effective_3.0</td>\n",
       "      <td>0.001958</td>\n",
       "    </tr>\n",
       "    <tr>\n",
       "      <th>19</th>\n",
       "      <td>is_h1n1_vacc_effective_2.0</td>\n",
       "      <td>0.001680</td>\n",
       "    </tr>\n",
       "    <tr>\n",
       "      <th>...</th>\n",
       "      <td>...</td>\n",
       "      <td>...</td>\n",
       "    </tr>\n",
       "    <tr>\n",
       "      <th>62</th>\n",
       "      <td>census_msa_Non-MSA</td>\n",
       "      <td>0.000229</td>\n",
       "    </tr>\n",
       "    <tr>\n",
       "      <th>11</th>\n",
       "      <td>avoid_touch_face_1.0</td>\n",
       "      <td>0.000225</td>\n",
       "    </tr>\n",
       "    <tr>\n",
       "      <th>61</th>\n",
       "      <td>census_msa_MSA, Principle City</td>\n",
       "      <td>0.000218</td>\n",
       "    </tr>\n",
       "    <tr>\n",
       "      <th>14</th>\n",
       "      <td>chronic_medic_condition_1.0</td>\n",
       "      <td>0.000216</td>\n",
       "    </tr>\n",
       "    <tr>\n",
       "      <th>53</th>\n",
       "      <td>sex_Male</td>\n",
       "      <td>0.000167</td>\n",
       "    </tr>\n",
       "  </tbody>\n",
       "</table>\n",
       "<p>69 rows × 2 columns</p>\n",
       "</div>"
      ],
      "text/plain": [
       "                               Var       VIF\n",
       "40         sick_from_seas_vacc_3.0  0.011571\n",
       "28         sick_from_h1n1_vacc_3.0  0.007397\n",
       "36               is_seas_risky_3.0  0.002132\n",
       "32      is_seas_vacc_effective_3.0  0.001958\n",
       "19      is_h1n1_vacc_effective_2.0  0.001680\n",
       "..                             ...       ...\n",
       "62              census_msa_Non-MSA  0.000229\n",
       "11            avoid_touch_face_1.0  0.000225\n",
       "61  census_msa_MSA, Principle City  0.000218\n",
       "14     chronic_medic_condition_1.0  0.000216\n",
       "53                        sex_Male  0.000167\n",
       "\n",
       "[69 rows x 2 columns]"
      ]
     },
     "execution_count": 462,
     "metadata": {},
     "output_type": "execute_result"
    }
   ],
   "source": [
    "vif_data.sort_values(by = ['VIF'], ascending = False)"
   ]
  },
  {
   "cell_type": "code",
   "execution_count": 463,
   "id": "c4818903",
   "metadata": {},
   "outputs": [],
   "source": [
    "from sklearn.model_selection import train_test_split\n",
    "from sklearn.linear_model import LogisticRegression"
   ]
  },
  {
   "cell_type": "code",
   "execution_count": 464,
   "id": "c9df957e",
   "metadata": {},
   "outputs": [],
   "source": [
    "x_train, x_test, y_train , y_test=train_test_split(x,y, test_size=.25, random_state=88)"
   ]
  },
  {
   "cell_type": "code",
   "execution_count": 465,
   "id": "9a731da8",
   "metadata": {},
   "outputs": [
    {
     "name": "stdout",
     "output_type": "stream",
     "text": [
      "Training Score : 0.8558162755866201\n",
      "Testing Score : 0.8442414257900255\n"
     ]
    }
   ],
   "source": [
    "log = LogisticRegression()\n",
    "\n",
    "log.fit(x_train,y_train)\n",
    "\n",
    "print(f\"Training Score : {log.score(x_train, y_train)}\")\n",
    "print(f\"Testing Score : {log.score(x_test, y_test)}\")"
   ]
  },
  {
   "cell_type": "code",
   "execution_count": 469,
   "id": "491158c9",
   "metadata": {},
   "outputs": [],
   "source": [
    "from sklearn.ensemble import BaggingClassifier"
   ]
  },
  {
   "cell_type": "code",
   "execution_count": 472,
   "id": "c3c44c2d",
   "metadata": {},
   "outputs": [
    {
     "name": "stdout",
     "output_type": "stream",
     "text": [
      "Training Score : 0.9843235147279081\n",
      "Testing Score : 0.8252209075932305\n"
     ]
    }
   ],
   "source": [
    "log = BaggingClassifier()\n",
    "\n",
    "log.fit(x_train,y_train)\n",
    "\n",
    "print(f\"Training Score : {log.score(x_train, y_train)}\")\n",
    "print(f\"Testing Score : {log.score(x_test, y_test)}\")"
   ]
  },
  {
   "cell_type": "code",
   "execution_count": 473,
   "id": "db46d269",
   "metadata": {},
   "outputs": [],
   "source": [
    "from sklearn.tree import DecisionTreeClassifier"
   ]
  },
  {
   "cell_type": "code",
   "execution_count": 474,
   "id": "0a0d1f66",
   "metadata": {},
   "outputs": [
    {
     "name": "stdout",
     "output_type": "stream",
     "text": [
      "Training Score : 1.0\n",
      "Testing Score : 0.7623184064699715\n"
     ]
    }
   ],
   "source": [
    "log = DecisionTreeClassifier()\n",
    "\n",
    "log.fit(x_train,y_train)\n",
    "\n",
    "print(f\"Training Score : {log.score(x_train, y_train)}\")\n",
    "print(f\"Testing Score : {log.score(x_test, y_test)}\")"
   ]
  },
  {
   "cell_type": "code",
   "execution_count": 475,
   "id": "31643cb1",
   "metadata": {},
   "outputs": [],
   "source": [
    "from sklearn.ensemble import AdaBoostClassifier"
   ]
  },
  {
   "cell_type": "code",
   "execution_count": 476,
   "id": "253dab60",
   "metadata": {},
   "outputs": [
    {
     "name": "stdout",
     "output_type": "stream",
     "text": [
      "Training Score : 0.8520219670494259\n",
      "Testing Score : 0.8412460685936798\n"
     ]
    }
   ],
   "source": [
    "log = AdaBoostClassifier()\n",
    "\n",
    "log.fit(x_train,y_train)\n",
    "\n",
    "print(f\"Training Score : {log.score(x_train, y_train)}\")\n",
    "print(f\"Testing Score : {log.score(x_test, y_test)}\")"
   ]
  },
  {
   "cell_type": "code",
   "execution_count": 477,
   "id": "292ce0e7",
   "metadata": {},
   "outputs": [],
   "source": [
    "from sklearn.ensemble import GradientBoostingClassifier"
   ]
  },
  {
   "cell_type": "code",
   "execution_count": 478,
   "id": "6823bfdd",
   "metadata": {},
   "outputs": [
    {
     "name": "stdout",
     "output_type": "stream",
     "text": [
      "Training Score : 0.8616575137294059\n",
      "Testing Score : 0.8440916579302081\n"
     ]
    }
   ],
   "source": [
    "log = GradientBoostingClassifier()\n",
    "\n",
    "log.fit(x_train,y_train)\n",
    "\n",
    "print(f\"Training Score : {log.score(x_train, y_train)}\")\n",
    "print(f\"Testing Score : {log.score(x_test, y_test)}\")"
   ]
  },
  {
   "cell_type": "code",
   "execution_count": 479,
   "id": "204d67d1",
   "metadata": {},
   "outputs": [],
   "source": [
    "from sklearn.ensemble import RandomForestClassifier"
   ]
  },
  {
   "cell_type": "code",
   "execution_count": 480,
   "id": "553041aa",
   "metadata": {},
   "outputs": [
    {
     "name": "stdout",
     "output_type": "stream",
     "text": [
      "Training Score : 0.9999500748876685\n",
      "Testing Score : 0.8452898008087465\n"
     ]
    }
   ],
   "source": [
    "log = RandomForestClassifier()\n",
    "\n",
    "log.fit(x_train,y_train)\n",
    "\n",
    "print(f\"Training Score : {log.score(x_train, y_train)}\")\n",
    "print(f\"Testing Score : {log.score(x_test, y_test)}\")"
   ]
  }
 ],
 "metadata": {
  "kernelspec": {
   "display_name": "Python 3 (ipykernel)",
   "language": "python",
   "name": "python3"
  },
  "language_info": {
   "codemirror_mode": {
    "name": "ipython",
    "version": 3
   },
   "file_extension": ".py",
   "mimetype": "text/x-python",
   "name": "python",
   "nbconvert_exporter": "python",
   "pygments_lexer": "ipython3",
   "version": "3.11.5"
  }
 },
 "nbformat": 4,
 "nbformat_minor": 5
}
